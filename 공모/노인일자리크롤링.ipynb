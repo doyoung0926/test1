{
 "cells": [
  {
   "cell_type": "code",
   "execution_count": 2,
   "metadata": {},
   "outputs": [],
   "source": [
    "# 시도 시군구 크롤링\n",
    "\n",
    "# 모듈 로딩\n",
    "from urllib.request import urlopen\n",
    "from bs4 import BeautifulSoup\n",
    "import requests\n",
    "\n",
    "headers = {'User-Agent' : 'Mozilla/5.0 (Windows NT 10.0; Win64; x64) AppleWebKit/537.36 (KHTML, like Gecko) Chrome/98.0.4758.102 Safari/537.36'}\n",
    "\n",
    "  \n",
    "url= f'https://www.seniorro.or.kr:4431/seniorro/main/organization.do'\n",
    "html = requests.get(url,headers=headers)\n",
    "soup = BeautifulSoup(html.text, 'html.parser')"
   ]
  },
  {
   "cell_type": "code",
   "execution_count": 12,
   "metadata": {},
   "outputs": [
    {
     "name": "stdout",
     "output_type": "stream",
     "text": [
      "선택\n",
      "서울\n",
      "강원\n",
      "경기\n",
      "경남\n",
      "경북\n",
      "광주\n",
      "대구\n",
      "대전\n",
      "부산\n",
      "울산\n",
      "인천\n",
      "전남\n",
      "전북\n",
      "제주\n",
      "충남\n",
      "충북\n",
      "세종\n",
      "선택\n"
     ]
    }
   ],
   "source": [
    "# 시도 크롤링\n",
    "div = soup.find('div', {'class':'form-input'})\n",
    "\n",
    "\n",
    "for i in div.find_all('option'):\n",
    "    print(i.text)"
   ]
  },
  {
   "cell_type": "code",
   "execution_count": 19,
   "metadata": {},
   "outputs": [
    {
     "name": "stderr",
     "output_type": "stream",
     "text": [
      "C:\\Users\\USER\\AppData\\Local\\Temp\\ipykernel_18004\\2146712830.py:5: DeprecationWarning: executable_path has been deprecated, please pass in a Service object\n",
      "  driver = webdriver.Chrome('C:/Users/User/Desktop/chromedriver')\n"
     ]
    },
    {
     "name": "stdout",
     "output_type": "stream",
     "text": [
      "선택\n",
      "서울\n",
      "강원\n",
      "경기\n",
      "경남\n",
      "경북\n",
      "광주\n",
      "대구\n",
      "대전\n",
      "부산\n",
      "울산\n",
      "인천\n",
      "전남\n",
      "전북\n",
      "제주\n",
      "충남\n",
      "충북\n",
      "세종\n"
     ]
    }
   ],
   "source": [
    "from selenium import webdriver\n",
    "from bs4 import BeautifulSoup\n",
    "import re\n",
    "\n",
    "driver = webdriver.Chrome('C:/Users/User/Desktop/chromedriver')\n",
    "driver.get('https://www.seniorro.or.kr:4431/seniorro/main/organization.do')\n",
    "\n",
    "driver.execute_script(f\"fn_search_recrtcn()\")\n",
    "\n",
    "html=driver.page_source\n",
    "soup=BeautifulSoup(html, 'html.parser')\n",
    "\n",
    "#print(re.sub('\\t|\\n|\\xa0', '', soup.find('tbody').text))\n",
    "\n",
    "select = soup.find('select',{'name':'areaTotCd'})\n",
    "for i in select.find_all('option'):\n",
    "    print(i.text)"
   ]
  },
  {
   "cell_type": "code",
   "execution_count": 29,
   "metadata": {},
   "outputs": [
    {
     "name": "stderr",
     "output_type": "stream",
     "text": [
      "C:\\Users\\USER\\AppData\\Local\\Temp\\ipykernel_18004\\2648897300.py:5: DeprecationWarning: executable_path has been deprecated, please pass in a Service object\n",
      "  driver = webdriver.Chrome('C:/Users/User/Desktop/chromedriver')\n"
     ]
    },
    {
     "name": "stdout",
     "output_type": "stream",
     "text": [
      "<select id=\"gugun\" name=\"gugun\" title=\"시/군/구를 선택하세요.\">\n",
      "<!--<select name=\"\" class=\"input-text\">-->\n",
      "<option value=\"\">선택</option>\n",
      "</select>\n"
     ]
    }
   ],
   "source": [
    "from selenium import webdriver\n",
    "from bs4 import BeautifulSoup\n",
    "import re\n",
    "\n",
    "driver = webdriver.Chrome('C:/Users/User/Desktop/chromedriver')\n",
    "driver.get('https://www.seniorro.or.kr:4431/seniorro/main/organization.do')\n",
    "\n",
    "\n",
    "html=driver.page_source\n",
    "soup=BeautifulSoup(html, 'html.parser')\n",
    "\n",
    "#print(re.sub('\\t|\\n|\\xa0', '', soup.find('tbody').text))\n",
    "\n",
    "select = soup.find('select',{'name':'gugun'})\n",
    "print(select)"
   ]
  },
  {
   "cell_type": "code",
   "execution_count": null,
   "metadata": {},
   "outputs": [],
   "source": []
  },
  {
   "cell_type": "code",
   "execution_count": 1,
   "metadata": {},
   "outputs": [
    {
     "name": "stderr",
     "output_type": "stream",
     "text": [
      "C:\\Users\\USER\\AppData\\Local\\Temp\\ipykernel_18004\\181045987.py:5: DeprecationWarning: executable_path has been deprecated, please pass in a Service object\n",
      "  driver = webdriver.Chrome('C:/Users/User/Desktop/chromedriver')\n"
     ]
    },
    {
     "name": "stdout",
     "output_type": "stream",
     "text": [
      "교육일정 상태전체접수마감개강종료폐강교육방식전체집합에듀버스온라인과정구분전체기초생활심화특별역량전체활용예방소양참여교육명교육대상자유형전체공통중장년층고령층다문화시각장애인청각장애인기타장애인농어업인취·창업희망자경력단절자소상공인시장상인아동청소년지적장애인\n"
     ]
    }
   ],
   "source": [
    "from selenium import webdriver\n",
    "from bs4 import BeautifulSoup\n",
    "import re\n",
    "\n",
    "driver = webdriver.Chrome('C:/Users/User/Desktop/chromedriver')\n",
    "driver.get('https://www.xn--2z1bw8k1pjz5ccumkb.kr/edc/crse/place.do')\n",
    "\n",
    "\n",
    "driver.execute_script(f\"fc_goMenu('/edc/crse/plcdtl.do?&sch_edc_place_id=20190001161')\")\n",
    "\n",
    "html=driver.page_source\n",
    "soup=BeautifulSoup(html, 'html.parser')\n",
    "\n",
    "print(re.sub('\\t|\\n|\\xa0', '', soup.find('tbody').text))"
   ]
  },
  {
   "cell_type": "code",
   "execution_count": 17,
   "metadata": {},
   "outputs": [
    {
     "name": "stdout",
     "output_type": "stream",
     "text": [
      "[<dd class=\"heightAuto\"><div id=\"edc_plc_adres\" style=\"display:inline-block; line-height: 1.5;\"></div> </dd>, <dd><div id=\"telno\" style=\"display:inline-block;\"></div></dd>, <dd><div id=\"edc_nmpr_co\" style=\"display:inline-block;\"></div></dd>, <dd>\n",
      "<input id=\"home_url\" type=\"hidden\" value=\"\"/>\n",
      "<button class=\"btn btnSizeS tableBtn t02\" onclick=\"fn_goHome()\" type=\"button\">홈페이지 이동</button>\n",
      "</dd>, <dd><div id=\"oper_sttus_se_nm\" style=\"display:inline-block;\"></div></dd>]\n"
     ]
    }
   ],
   "source": [
    "from urllib.request import urlopen\n",
    "from bs4 import BeautifulSoup\n",
    "import requests\n",
    "\n",
    "\n",
    "headers = {'User-Agent' : 'Mozilla/5.0 (Windows NT 10.0; Win64; x64) AppleWebKit/537.36 (KHTML, like Gecko) Chrome/98.0.4758.102 Safari/537.36'}\n",
    "\n",
    "url= f'https://www.xn--2z1bw8k1pjz5ccumkb.kr/edc/crse/plcdtl.do?&sch_edc_place_id=20190001161'\n",
    "html = requests.get(url,headers=headers)\n",
    "soup = BeautifulSoup(html.text, 'html.parser')\n",
    "\n",
    "a=soup.find_all('div',{'class':'detailTop flex'})\n",
    "\n",
    "for i in a:\n",
    "    print(i.find_all('dd'))"
   ]
  },
  {
   "cell_type": "code",
   "execution_count": 27,
   "metadata": {},
   "outputs": [
    {
     "name": "stderr",
     "output_type": "stream",
     "text": [
      "C:\\Users\\USER\\AppData\\Local\\Temp\\ipykernel_18004\\1885593962.py:5: DeprecationWarning: executable_path has been deprecated, please pass in a Service object\n",
      "  driver = webdriver.Chrome('C:/Users/User/Desktop/chromedriver')\n"
     ]
    },
    {
     "name": "stdout",
     "output_type": "stream",
     "text": [
      "[<tbody><tr> <td class=\"jjim fixedCate mborder\"><button class=\"jjimIcon\" onclick=\"jjimClick(this, 'E2200451336');\" style=\"border:0px\">찜하기</button></td> <td>집합</td> <td class=\"mborder\">생활</td> <td class=\"mborder\">농어업인</td> <td class=\"title txtL ellip\" title=\"이미지 제작 및 편집하기1\"><span class=\"cateTag v1\" style=\"width:84px;\">접수</span>이미지 제작 및 편집하기1<br/><span class=\"cateTag v2\" style=\"width:84px;\">담당배움터</span>구미시립도서관인동분관</td> <td>2022-11-01 ~<br/>2022-11-01</td> <td class=\"hideTd\">7/9</td> <td class=\"hideTd\">9</td> <td><button class=\"btn btnSizeS tableBtn t02\" onclick=\"fn_reqBtn('E2200451336')\" type=\"button\">신청</button></td></tr><tr> <td class=\"jjim fixedCate mborder\"><button class=\"jjimIcon\" onclick=\"jjimClick(this, 'E2200451056');\" style=\"border:0px\">찜하기</button></td> <td>집합</td> <td class=\"mborder\">심화</td> <td class=\"mborder\">경력단절자</td> <td class=\"title txtL ellip\" title=\"컴퓨터활용능력2급자격대비\"><span class=\"cateTag v1\" style=\"width:84px;\">접수</span>컴퓨터활용능력2급자격대비<br/><span class=\"cateTag v2\" style=\"width:84px;\">담당배움터</span>구미시립도서관인동분관</td> <td>2022-11-02 ~<br/>2022-11-02</td> <td class=\"hideTd\">5/3</td> <td class=\"hideTd\">3</td> <td><button class=\"btn btnSizeS tableBtn t02\" onclick=\"fn_reqBtn('E2200451056')\" type=\"button\">신청</button></td></tr><tr> <td class=\"jjim fixedCate mborder\"><button class=\"jjimIcon\" onclick=\"jjimClick(this, 'E2200451342');\" style=\"border:0px\">찜하기</button></td> <td>집합</td> <td class=\"mborder\">생활</td> <td class=\"mborder\">농어업인</td> <td class=\"title txtL ellip\" title=\"이미지 제작 및 편집하기2\"><span class=\"cateTag v1\" style=\"width:84px;\">접수</span>이미지 제작 및 편집하기2<br/><span class=\"cateTag v2\" style=\"width:84px;\">담당배움터</span>구미시립도서관인동분관</td> <td>2022-11-02 ~<br/>2022-11-02</td> <td class=\"hideTd\">7/9</td> <td class=\"hideTd\">9</td> <td><button class=\"btn btnSizeS tableBtn t02\" onclick=\"fn_reqBtn('E2200451342')\" type=\"button\">신청</button></td></tr><tr> <td class=\"jjim fixedCate mborder\"><button class=\"jjimIcon\" onclick=\"jjimClick(this, 'E2200451345');\" style=\"border:0px\">찜하기</button></td> <td>집합</td> <td class=\"mborder\">생활</td> <td class=\"mborder\">농어업인</td> <td class=\"title txtL ellip\" title=\"이미지 제작 및 편집하기3\"><span class=\"cateTag v1\" style=\"width:84px;\">접수</span>이미지 제작 및 편집하기3<br/><span class=\"cateTag v2\" style=\"width:84px;\">담당배움터</span>구미시립도서관인동분관</td> <td>2022-11-03 ~<br/>2022-11-03</td> <td class=\"hideTd\">7/9</td> <td class=\"hideTd\">9</td> <td><button class=\"btn btnSizeS tableBtn t02\" onclick=\"fn_reqBtn('E2200451345')\" type=\"button\">신청</button></td></tr><tr> <td class=\"jjim fixedCate mborder\"><button class=\"jjimIcon\" onclick=\"jjimClick(this, 'E2200451346');\" style=\"border:0px\">찜하기</button></td> <td>집합</td> <td class=\"mborder\">생활</td> <td class=\"mborder\">농어업인</td> <td class=\"title txtL ellip\" title=\"이미지 제작 및 편집하기4\"><span class=\"cateTag v1\" style=\"width:84px;\">접수</span>이미지 제작 및 편집하기4<br/><span class=\"cateTag v2\" style=\"width:84px;\">담당배움터</span>구미시립도서관인동분관</td> <td>2022-11-07 ~<br/>2022-11-07</td> <td class=\"hideTd\">7/4</td> <td class=\"hideTd\">4</td> <td><button class=\"btn btnSizeS tableBtn t02\" onclick=\"fn_reqBtn('E2200451346')\" type=\"button\">신청</button></td></tr><tr> <td class=\"jjim fixedCate mborder\"><button class=\"jjimIcon\" onclick=\"jjimClick(this, 'E2200451355');\" style=\"border:0px\">찜하기</button></td> <td>집합</td> <td class=\"mborder\">생활</td> <td class=\"mborder\">농어업인</td> <td class=\"title txtL ellip\" title=\"이미지 제작 및 편집하기5\"><span class=\"cateTag v1\" style=\"width:84px;\">접수</span>이미지 제작 및 편집하기5<br/><span class=\"cateTag v2\" style=\"width:84px;\">담당배움터</span>구미시립도서관인동분관</td> <td>2022-11-08 ~<br/>2022-11-08</td> <td class=\"hideTd\">7/9</td> <td class=\"hideTd\">9</td> <td><button class=\"btn btnSizeS tableBtn t02\" onclick=\"fn_reqBtn('E2200451355')\" type=\"button\">신청</button></td></tr><tr> <td class=\"jjim fixedCate mborder\"><button class=\"jjimIcon\" onclick=\"jjimClick(this, 'E2200451057');\" style=\"border:0px\">찜하기</button></td> <td>집합</td> <td class=\"mborder\">심화</td> <td class=\"mborder\">경력단절자</td> <td class=\"title txtL ellip\" title=\"컴퓨터활용능력2급자격대비\"><span class=\"cateTag v1\" style=\"width:84px;\">접수</span>컴퓨터활용능력2급자격대비<br/><span class=\"cateTag v2\" style=\"width:84px;\">담당배움터</span>구미시립도서관인동분관</td> <td>2022-11-09 ~<br/>2022-11-09</td> <td class=\"hideTd\">5/3</td> <td class=\"hideTd\">3</td> <td><button class=\"btn btnSizeS tableBtn t02\" onclick=\"fn_reqBtn('E2200451057')\" type=\"button\">신청</button></td></tr><tr> <td class=\"jjim fixedCate mborder\"><button class=\"jjimIcon\" onclick=\"jjimClick(this, 'E2200451357');\" style=\"border:0px\">찜하기</button></td> <td>집합</td> <td class=\"mborder\">생활</td> <td class=\"mborder\">농어업인</td> <td class=\"title txtL ellip\" title=\"이미지 제작 및 편집하기6\"><span class=\"cateTag v1\" style=\"width:84px;\">접수</span>이미지 제작 및 편집하기6<br/><span class=\"cateTag v2\" style=\"width:84px;\">담당배움터</span>구미시립도서관인동분관</td> <td>2022-11-09 ~<br/>2022-11-09</td> <td class=\"hideTd\">7/9</td> <td class=\"hideTd\">9</td> <td><button class=\"btn btnSizeS tableBtn t02\" onclick=\"fn_reqBtn('E2200451357')\" type=\"button\">신청</button></td></tr><tr> <td class=\"jjim fixedCate mborder\"><button class=\"jjimIcon\" onclick=\"jjimClick(this, 'E2200451358');\" style=\"border:0px\">찜하기</button></td> <td>집합</td> <td class=\"mborder\">생활</td> <td class=\"mborder\">농어업인</td> <td class=\"title txtL ellip\" title=\"이미지 제작 및 편집하기7\"><span class=\"cateTag v1\" style=\"width:84px;\">접수</span>이미지 제작 및 편집하기7<br/><span class=\"cateTag v2\" style=\"width:84px;\">담당배움터</span>구미시립도서관인동분관</td> <td>2022-11-10 ~<br/>2022-11-10</td> <td class=\"hideTd\">7/9</td> <td class=\"hideTd\">9</td> <td><button class=\"btn btnSizeS tableBtn t02\" onclick=\"fn_reqBtn('E2200451358')\" type=\"button\">신청</button></td></tr><tr> <td class=\"jjim fixedCate mborder\"><button class=\"jjimIcon\" onclick=\"jjimClick(this, 'E2200451456');\" style=\"border:0px\">찜하기</button></td> <td>집합</td> <td class=\"mborder\">기초</td> <td class=\"mborder\">농어업인</td> <td class=\"title txtL ellip\" title=\"[지역특화] 포토스케이프로 쉽게 사진편집 배우기1\"><span class=\"cateTag v1\" style=\"width:84px;\">접수</span>[지역특화] 포토스케이프로 쉽게 사진편집 배우기1<br/><span class=\"cateTag v2\" style=\"width:84px;\">담당배움터</span>구미시립도서관인동분관</td> <td>2022-11-15 ~<br/>2022-11-15</td> <td class=\"hideTd\">7/9</td> <td class=\"hideTd\">9</td> <td><button class=\"btn btnSizeS tableBtn t02\" onclick=\"fn_reqBtn('E2200451456')\" type=\"button\">신청</button></td></tr></tbody>]\n"
     ]
    }
   ],
   "source": [
    "from selenium import webdriver\n",
    "from bs4 import BeautifulSoup\n",
    "import re\n",
    "\n",
    "driver = webdriver.Chrome('C:/Users/User/Desktop/chromedriver')\n",
    "driver.get('https://www.xn--2z1bw8k1pjz5ccumkb.kr/edc/crse/plcdtl.do?&sch_edc_place_id=20190001161')\n",
    "\n",
    "html=driver.page_source\n",
    "soup=BeautifulSoup(html, 'html.parser')\n",
    "a=soup.select('div#course_search_list > div.table.colTable.v2.textCenter.mV2Table > table > tbody')\n",
    "print(a)"
   ]
  },
  {
   "cell_type": "code",
   "execution_count": null,
   "metadata": {},
   "outputs": [],
   "source": []
  }
 ],
 "metadata": {
  "kernelspec": {
   "display_name": "Python 3.9.13 64-bit",
   "language": "python",
   "name": "python3"
  },
  "language_info": {
   "codemirror_mode": {
    "name": "ipython",
    "version": 3
   },
   "file_extension": ".py",
   "mimetype": "text/x-python",
   "name": "python",
   "nbconvert_exporter": "python",
   "pygments_lexer": "ipython3",
   "version": "3.9.13"
  },
  "orig_nbformat": 4,
  "vscode": {
   "interpreter": {
    "hash": "11938c6bc6919ae2720b4d5011047913343b08a43b18698fd82dedb0d4417594"
   }
  }
 },
 "nbformat": 4,
 "nbformat_minor": 2
}
