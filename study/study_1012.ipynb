{
 "cells": [
  {
   "cell_type": "markdown",
   "metadata": {},
   "source": [
    "# 1. 클라우드 컴퓨팅 소개"
   ]
  },
  {
   "cell_type": "markdown",
   "metadata": {},
   "source": [
    "- 클라우드 컴퓨팅의 특징-이점\n",
    "- 클라우드 컴퓨팅의 이점\n",
    "- 비즈니스적인 측면\n",
    "- 초기 인프라 자원 투자에 대한 부담 감소\n",
    "- 종량제 및 요금제 선택 구조\n",
    "- 민첩하고 효율적인 인프라 자원 제공 및 관리\n",
    "- Time to Market 시간 절감\n",
    "\n",
    "- 기술적인 측면\n",
    "- 자동화(프로그래밍 가능한 인프라)\n",
    "- Auto Scaling, 탄력적인 확장\n",
    "- 개발 라이프사이클 단축\n",
    "- 검증 절차 향상\n",
    "- 비즈니스 연속성과 재해복구"
   ]
  },
  {
   "cell_type": "markdown",
   "metadata": {},
   "source": [
    "- 4차 산업혁명과 클라우드\n",
    "- 4차 산업혁명의 기본 전체 조건은 클라우드 데이터이다.\n",
    "- 세계는 지금\n",
    "- 클라우드 데이터 80% 이상\n",
    "- 한국은 지금\n",
    "- 클라우드 데이터 1%\n",
    "\n",
    "- 창조경제연구회(KCERN) 이사장은 최근 정기포럼에서 '4차 산업혁명의 전제조건'이라는 주제로 발표하면서\n",
    "- 4차 산업혁명의 첫 단추는 '클라우드 데이터'라고 정의했다.\n",
    "- 해외의 경우는 민간 데이터와 공공데이터가 클라우드에 올라가는데 데이터의 80% 이상이 클라우드 데이터라는 것."
   ]
  },
  {
   "cell_type": "markdown",
   "metadata": {},
   "source": [
    "- 4차 산업혁명과 클라우드\n",
    "- 4차 산업혁명 인프라 구축 방안\n",
    "- 데이터 확보 및 활용 + 클라우드 시장 활성화\n",
    "- 공공 데이터 개방\n",
    "데이터 보안과 공유의 균형\n",
    "\n",
    "- 개인 정보 활용 촉진\n",
    "개인 정보 통제와 활용의 균형\n",
    "\n",
    "- 클라우드 활성화\n",
    "공공과 민간의 클라우드 수요 창출"
   ]
  },
  {
   "cell_type": "markdown",
   "metadata": {},
   "source": [
    "- 1.2 클라우드 컴퓨팅 아키텍처\n",
    "- 클라우드 아키텍처 참조 모델\n",
    "- 클라우드 구성 컴포넌트\n",
    "- 클라우드 컴퓨팅 유형"
   ]
  },
  {
   "cell_type": "markdown",
   "metadata": {},
   "source": [
    "- 클라우드 아키텍처 참조 모델\n",
    "- IBM CCRA\n",
    "\n",
    "- IBM CCRA(Cloud Computing Reference Architecture)\n",
    "- IBM 연구소와 IBM의 소프트웨어, 시스템, 서비스 조직의 기술 전문가로 구성된 IBM 클라우드 컴퓨팅 아키텍처 전담 조직에서 개발\n",
    "- 고객의 기능적 또는 비기능적 요구사항에 맞춰 각각의 클라우드를 구축할 때 청사진 또는 가이드로 활용하기 위한 참조 아키텍처."
   ]
  },
  {
   "cell_type": "markdown",
   "metadata": {},
   "source": [
    "- 클라우드 컴퓨팅 유형\n",
    "- 정의    서비스 예\n",
    "* Public Cloud\n",
    "- 인터넷 상으로 여러 사용자들에 의해 공유되는 IT 환경\n",
    "- Cloud Service Provider가 제공 및 관리\n",
    "\n",
    "- Amazon Web Service(EC2, S3, ...)\n",
    "- IBM's Blue Cloud\n",
    "- Google AppEngine\n",
    "- Windows Azure Service Platform\n",
    "- KT U-Cloud\n",
    "\n",
    "* Private Cloud\n",
    "- 한 기업이나 기관 내에서 자체적으로 사용하기 위한 클라우드\n",
    "- 기업 및 기관에 의해 통제 및 관리\n",
    "\n",
    "- VDI 서비스\n",
    "- Server Cloud 서비스\n",
    "- SPCS\n",
    "\n",
    "* Hybrid Cloud\n",
    "- 프라이머리 데이터센터는 public cloud로, 백업 데이터센터는 private cloud로 사용하는 형태의 혼합형 클라우드\n",
    "\n",
    "- AWS +RightScale+Private Cloud\n",
    "\n",
    "* Community Cloud\n",
    "- 특정서비스를 제공할 목적으로 구성된 클라우드\n",
    "- 예: Finance Industry를 위한 클라우드"
   ]
  },
  {
   "cell_type": "markdown",
   "metadata": {},
   "source": [
    "- Public Cloud: 클라우드 서비스 프로바이더(CSP)가 제공하는 클라우드 서비스, 일반 사용자는 서비스 이용에 대한 비용을 지불한다.\n",
    "-Private Cloud: 기업내에서 자체적으로 사용하기 위한 클라우드\n",
    "- Hybrid Cloud: 프라이머리 데이터센터는 public cloud로, 백업 데이터센터는\n",
    "private cloud로 사용하는 형태의 혼합형 클라우드\n",
    "- Community Cloud: 특정서비스를 제공할 목적으로 구성된 클라우드,\n",
    "예: Finance Industry를 위한 클라우드\n",
    "\n",
    "* 본 교재에서는 복잡한 고객사 망 환경에서의 Private 구축을 위한 설계에 대해 집중 다룸."
   ]
  },
  {
   "cell_type": "markdown",
   "metadata": {},
   "source": [
    "- 클라우드 컴퓨팅 유형\n",
    "- Cloud 이용 현황\n",
    "Types of clouds used\n",
    "Public cloud only 16%\n",
    "Hybrid 80%\n",
    "Private cloud only 4%\n",
    "\n",
    "Public 96%\n",
    "Private 84%"
   ]
  },
  {
   "cell_type": "markdown",
   "metadata": {},
   "source": [
    "- 클라우드 컴퓨팅 유형\n",
    "- Hybrid Cloud 구성 요소\n",
    "Hybrid Cloud =\n",
    "Private + Public\n",
    "Community + Public\n",
    "Community + Private\n",
    "통합 운영 관리\n",
    "권한 관리\n",
    "모니터링\n",
    "자동화\n",
    "가상 자원 통합 관리\n",
    "Image Import/Export\n",
    "Virtual Private Network"
   ]
  },
  {
   "cell_type": "markdown",
   "metadata": {},
   "source": [
    "- 클라우드 컴퓨팅 유형\n",
    "- Hybrid Cloud 구성 요소\n",
    "- Hybrid Cloud\n",
    "- private Cloud와 Public Cloud를 혼합하여 사용하는 형태로 Public cloud의 확장성과 경비 효율, Hybrid Cloud의 Data 보안성의 이점을 잘 활용하여 구축할 수 있음\n",
    "- Hybrid Cloud의 핵심은 각 클라우드의 API를 활용하여 통합 자원 관리를 할 수 있는 환경 구축하는 것임\n",
    "- 클라우드 서비스 제공 업체는 Public 및 Private Cloud 서비스를 모두 제공하여 Hybrid Cloud 구축을 용이하게 함\n",
    "- Vmware와 MS 등의 클라우드 솔루션들도 Public cloud와 연동할 수 있는 기능들을 제공"
   ]
  },
  {
   "cell_type": "markdown",
   "metadata": {},
   "source": [
    "- 클라우드 컴퓨팅 유형\n",
    "- Multi Cloud 전략\n",
    "Cloud strategy for all organizations\n",
    "single private 2%\n",
    "single public 9%\n",
    "Multi-cloud 89%\n",
    "\n",
    "Multiple public 7%\n",
    "Multiple private 2%\n",
    "Hybrid cloud 80%"
   ]
  },
  {
   "cell_type": "markdown",
   "metadata": {},
   "source": [
    "- 클라우드 컴퓨팅 유형\n",
    "- 다양한 클라우드 서비스 모델\n",
    "- XaaS\n",
    "- IaaS: Infrastructure as a Service\n",
    "- PaaS: Platform as a Service\n",
    "- SaaS: Software as a Service\n",
    "- Desktop as a Service\n",
    "- Storage as a Service\n",
    "- Database as a Service\n",
    "- Business Process as a Service\n",
    "- Security as a Service\n",
    "- Management as a Service\n",
    "- Disaster Recovery as a Service\n",
    "- ...\n",
    "\n",
    "X as a Service: a Service-Based Consumption Model"
   ]
  },
  {
   "cell_type": "markdown",
   "metadata": {},
   "source": []
  }
 ],
 "metadata": {
  "kernelspec": {
   "display_name": "Python 3.9.13 64-bit",
   "language": "python",
   "name": "python3"
  },
  "language_info": {
   "name": "python",
   "version": "3.9.13"
  },
  "orig_nbformat": 4,
  "vscode": {
   "interpreter": {
    "hash": "11938c6bc6919ae2720b4d5011047913343b08a43b18698fd82dedb0d4417594"
   }
  }
 },
 "nbformat": 4,
 "nbformat_minor": 2
}
