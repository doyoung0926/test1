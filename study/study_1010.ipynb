{
 "cells": [
  {
   "cell_type": "markdown",
   "metadata": {},
   "source": [
    "# Python 함수"
   ]
  },
  {
   "cell_type": "code",
   "execution_count": null,
   "metadata": {},
   "outputs": [],
   "source": [
    "# python 함수\n",
    "# 함수(Function)란?\n",
    "# 반복되는 기능 코드를 하나로 묶어 이름을 붙인 것을 함수라 함\n",
    "# 해당 기능 필요 시 함수 이름을 불러서 사용 가능 (함수 호출)\n",
    "\n",
    "# 함수 호출이 되지 않으면\n",
    "# 함수 코드는 실행(동작)하지 않음"
   ]
  },
  {
   "cell_type": "code",
   "execution_count": 1,
   "metadata": {},
   "outputs": [],
   "source": [
    "# 함수(Funtion) 선언\n",
    "# def 함수명(매개변수1, 매겨변수2, ..., 매개변수N):\n",
    "#    실행문\n",
    "#    실행문\n",
    "#    return 반환값\n",
    "\n",
    "# 함수명 -> 코드의 기능을 알 수 있도록 작성\n",
    "# 매개변수 -> 기능 구현에 필요한 재료를 파라미터라 함\n",
    "# 반환값 -> 기능 구현 후 결과물, 존재하지 않을 수도 있음"
   ]
  },
  {
   "cell_type": "code",
   "execution_count": 2,
   "metadata": {},
   "outputs": [
    {
     "name": "stdout",
     "output_type": "stream",
     "text": [
      "add(10, 20) = 30\n"
     ]
    }
   ],
   "source": [
    "# 함수(Function) 사용 -> 함수 호출\n",
    "# 함수명(매개변수1, 매개변수2)\n",
    "# 결과 저장 변수 = 함수명(매개변수1, 매개변수2)\n",
    "\n",
    "# 함수 선언\n",
    "def add(a, b):\n",
    "    value=a+b\n",
    "    return value\n",
    "\n",
    "# 함수 호출(사용)\n",
    "result=add(10, 20)\n",
    "print('add(10, 20) =', result)"
   ]
  },
  {
   "cell_type": "code",
   "execution_count": 3,
   "metadata": {},
   "outputs": [],
   "source": [
    "# return 반환\n",
    "# 함수 종료 및 호출한 곳으로 돌아감\n",
    "# 어떤 종류의 객체도 반환 가능\n",
    "# return 사용하지 않거나 return만 적어도 함수 종료\n",
    "# 함수 중간에 빠져나가기\n",
    "# 여러 개 값 반환 가능"
   ]
  },
  {
   "cell_type": "code",
   "execution_count": 6,
   "metadata": {},
   "outputs": [
    {
     "name": "stdout",
     "output_type": "stream",
     "text": [
      "30 20\n",
      "Hello Tom\n"
     ]
    }
   ],
   "source": [
    "# 함수 형태\n",
    "# 인자와 반환값 존재하는 경우\n",
    "\n",
    "def sum(x,y):\n",
    "    return x+y;\n",
    "\n",
    "print(30,20)\n",
    "\n",
    "print('Hello', 'Tom')"
   ]
  },
  {
   "cell_type": "code",
   "execution_count": 7,
   "metadata": {},
   "outputs": [
    {
     "name": "stdout",
     "output_type": "stream",
     "text": [
      "서울특별시 종로구 1번지\n",
      "파이썬 빌딩 7층\n",
      "홍길동\n"
     ]
    }
   ],
   "source": [
    "# 함수 형태\n",
    "# 인자만 존재하는 경우\n",
    "def print_address(name):\n",
    "    print('서울특별시 종로구 1번지')\n",
    "    print('파이썬 빌딩 7층')\n",
    "    print(name)\n",
    "\n",
    "print_address('홍길동')"
   ]
  },
  {
   "cell_type": "code",
   "execution_count": 8,
   "metadata": {},
   "outputs": [
    {
     "name": "stdout",
     "output_type": "stream",
     "text": [
      "서울특별시 종로구 1번지\n",
      "파이썬 빌딩 7층\n",
      "홍길동\n"
     ]
    }
   ],
   "source": [
    "# 함수 형태\n",
    "# 인자, 반환값 없는 경우\n",
    "def print_address():\n",
    "    print('서울특별시 종로구 1번지')\n",
    "    print('파이썬 빌딩 7층')\n",
    "    print('홍길동')\n",
    "\n",
    "print_address()   # 함수 호출"
   ]
  },
  {
   "cell_type": "code",
   "execution_count": 10,
   "metadata": {},
   "outputs": [
    {
     "name": "stdout",
     "output_type": "stream",
     "text": [
      "78.5\n"
     ]
    }
   ],
   "source": [
    "# 함수 형태\n",
    "# 인자, 반환값 모두 존재하는 경우\n",
    "def calculate_area (radius):\n",
    "    area = 3.14 * radius**2\n",
    "    return area\n",
    "\n",
    "print(calculate_area(5.0))"
   ]
  },
  {
   "cell_type": "code",
   "execution_count": 11,
   "metadata": {},
   "outputs": [],
   "source": [
    "# 함수 형태\n",
    "# 인자 개수 미정인 경우\n",
    "# def 함수명(*매개변수):   # 가변인자\n",
    "#     실행문\n",
    "#     실행문\n",
    "#     retrun 반환값"
   ]
  },
  {
   "cell_type": "code",
   "execution_count": 13,
   "metadata": {},
   "outputs": [
    {
     "name": "stdout",
     "output_type": "stream",
     "text": [
      "result 30\n",
      "result 495\n"
     ]
    }
   ],
   "source": [
    "# 함수 형태\n",
    "# 인자 개수 미정인 경우\n",
    "def getSum(*args):   # 가변인자 마지막에 위치\n",
    "    sum=0\n",
    "    for i in args:\n",
    "        sum+=i\n",
    "    return sum\n",
    "\n",
    "resunt=getSum(1,2,3,4,5)\n",
    "print('result %d' %result)\n",
    "\n",
    "result=getSum(11,22,33,44,55,66,77,88,99)\n",
    "print('result %d' %result)"
   ]
  },
  {
   "cell_type": "code",
   "execution_count": 15,
   "metadata": {},
   "outputs": [
    {
     "name": "stdout",
     "output_type": "stream",
     "text": [
      "get_sum_mul() result: (12, 20)\n",
      "get_sum_mul() result - sum 12, mul 20\n"
     ]
    }
   ],
   "source": [
    "# 함수 형태\n",
    "# 반환값이 여러 개인 경우\n",
    "def get_sum_mul(a,b):\n",
    "    return a+b, a*b   # 튜플 타입 리턴 언팩킹\n",
    "\n",
    "result=get_sum_mul(2,10)\n",
    "print('get_sum_mul() result:', result)\n",
    "\n",
    "sum, mul=get_sum_mul(2,10)\n",
    "print('get_sum_mul() result - sum %d, mul %d' %(sum, mul))"
   ]
  },
  {
   "cell_type": "code",
   "execution_count": 16,
   "metadata": {},
   "outputs": [],
   "source": [
    "# 함수 형태\n",
    "# 키워드 파라미터 형태\n",
    "\n",
    "# def 함수명(**매개변수):   # key=value 형태  매개변수\n",
    "#     실행문\n",
    "#     실행문\n",
    "#     return 반환값    # 딕셔너리 형태 반환"
   ]
  },
  {
   "cell_type": "code",
   "execution_count": 17,
   "metadata": {},
   "outputs": [
    {
     "name": "stdout",
     "output_type": "stream",
     "text": [
      "{'name': 'kim', 'age': 30, 'gender': 'F'}\n"
     ]
    }
   ],
   "source": [
    "# 함수 형태\n",
    "# 키워드 파라미터 형태\n",
    "\n",
    "def print_kwargs(**kwargs):\n",
    "    print(kwargs)\n",
    "\n",
    "# 함수 호출\n",
    "print_kwargs(name='kim', age=30, gender='F')"
   ]
  },
  {
   "cell_type": "code",
   "execution_count": 18,
   "metadata": {},
   "outputs": [],
   "source": [
    "# 함수 형태\n",
    "# 매개변수 초기값 설정\n",
    "\n",
    "# def 함수명(매개변수1, 매개변수2, 매개변수3=초기값):    # 맨마지막 위치!\n",
    "#     실행문\n",
    "#     실행문\n",
    "#     return 반환값"
   ]
  },
  {
   "cell_type": "code",
   "execution_count": 21,
   "metadata": {},
   "outputs": [
    {
     "name": "stdout",
     "output_type": "stream",
     "text": [
      "Name is Kim\n",
      "Old is 10\n",
      "Man\n",
      "Name is Tom Lee\n",
      "Old is 15\n",
      "Woman\n"
     ]
    }
   ],
   "source": [
    "# 함수 형태\n",
    "# 매개변수 초기값 설정\n",
    "def set_info(name, old, man=True):\n",
    "    print('Name is %s' %name)\n",
    "    print('Old is %d' %old)\n",
    "\n",
    "    if man:\n",
    "        print('Man')\n",
    "    else:\n",
    "        print('Woman')\n",
    "\n",
    "    return\n",
    "\n",
    "set_info('Kim', 10)\n",
    "set_info('Tom Lee', 15, False)"
   ]
  },
  {
   "cell_type": "code",
   "execution_count": 22,
   "metadata": {},
   "outputs": [],
   "source": [
    "# 변수에 함수 담기\n",
    "# 메모리에 객체 생성\n",
    "# 레퍼런스 생성"
   ]
  },
  {
   "cell_type": "code",
   "execution_count": 23,
   "metadata": {},
   "outputs": [
    {
     "name": "stdout",
     "output_type": "stream",
     "text": [
      "\n",
      "type(p)= <class 'function'>\n",
      "123\n",
      "Good Happy\n"
     ]
    }
   ],
   "source": [
    "# 변수에 함수 담기\n",
    "# 함수도 class 'function'타입으로 변수에 대입 가능\n",
    "def something(a):\n",
    "    print(a)\n",
    "\n",
    "p=something\n",
    "print('\\ntype(p)=', type(p))\n",
    "\n",
    "p(123)\n",
    "p('Good Happy')"
   ]
  },
  {
   "cell_type": "code",
   "execution_count": 25,
   "metadata": {},
   "outputs": [
    {
     "name": "stdout",
     "output_type": "stream",
     "text": [
      "\n",
      "type(first)= <class 'list'>\n",
      "first[0](1,2)= 2\n",
      "first[1](1,2)= -1\n"
     ]
    }
   ],
   "source": [
    "# 변수에 함수 담기\n",
    "def plus(a,b):\n",
    "    return a*b\n",
    "\n",
    "def minus(a,b):\n",
    "    return a-b\n",
    "\n",
    "first=[plus, minus]\n",
    "print('\\ntype(first)=', type(first))\n",
    "\n",
    "print('first[0](1,2)=', first[0](1,2))\n",
    "print('first[1](1,2)=', first[1](1,2))"
   ]
  },
  {
   "cell_type": "code",
   "execution_count": 26,
   "metadata": {},
   "outputs": [],
   "source": [
    "# 함수와 변수 관계\n",
    "# 변수 위치에 따른 분류\n",
    "\n",
    "# 지역변수 (Local Variable)\n",
    "# 함수 안에 존재하는 함수\n",
    "# 함수에서만 사용 가능\n",
    "# 함수 실행 후 메모리에서 사라짐\n",
    "\n",
    "# 전역변수 (Global Variable)\n",
    "# 함수 밖에 존재하는 함수\n",
    "# 프로그램 어디서나 사용 가능\n",
    "# 프로그램 종료 시 메모리에서 사라짐"
   ]
  },
  {
   "cell_type": "code",
   "execution_count": 27,
   "metadata": {},
   "outputs": [
    {
     "name": "stdout",
     "output_type": "stream",
     "text": [
      " a=> 21\n",
      "a is 10\n"
     ]
    }
   ],
   "source": [
    "# 함수와 변수 관계\n",
    "a=10   # 전역변수\n",
    "\n",
    "def test(a):\n",
    "    a += 1    # 지역변수\n",
    "    print(' a=>', a)\n",
    "\n",
    "# 함수 호출(사용)\n",
    "test(20)\n",
    "print('a is %d' %a)"
   ]
  },
  {
   "cell_type": "code",
   "execution_count": 34,
   "metadata": {},
   "outputs": [
    {
     "name": "stdout",
     "output_type": "stream",
     "text": [
      "a is 11\n"
     ]
    }
   ],
   "source": [
    "# 함수와 변수 관계\n",
    "a=10   # 전역변수\n",
    "\n",
    "def test():\n",
    "    global a   # 전역변수 사용 알림\n",
    "    a += 1   # 전역변수\n",
    "\n",
    "\n",
    "# 함수 호출(사용)\n",
    "test()\n",
    "print('a is %d' %a)"
   ]
  },
  {
   "cell_type": "code",
   "execution_count": 35,
   "metadata": {},
   "outputs": [
    {
     "name": "stdout",
     "output_type": "stream",
     "text": [
      "Hello, world!\n"
     ]
    }
   ],
   "source": [
    "# 함수 안에 함수\n",
    "# 함수 선언\n",
    "def print_hello():\n",
    "    hello='Hello, world!'\n",
    "    def print_message():\n",
    "        print(hello)\n",
    "    print_message()\n",
    "\n",
    "# 함수 호출\n",
    "print_hello()"
   ]
  },
  {
   "cell_type": "code",
   "execution_count": 37,
   "metadata": {},
   "outputs": [
    {
     "name": "stdout",
     "output_type": "stream",
     "text": [
      "3\n",
      "3\n",
      "-1\n",
      "0.5\n"
     ]
    }
   ],
   "source": [
    "# Lambda(람다)\n",
    "# 이름 없는 한 줄 함수 즉, 익명함수\n",
    "# 변수명 = lambda 인수1, 인수2, ...: 실행코드 (리턴 값)\n",
    "add=lambda x,y: x+y\n",
    "print(add(1,2))\n",
    "\n",
    "cal=[lambda x,y: x+y, lambda x,y: x-y, lambda x,y: x/y]\n",
    "print(cal[0](1,2))\n",
    "print(cal[1](1,2))\n",
    "print(cal[2](1,2))"
   ]
  },
  {
   "cell_type": "code",
   "execution_count": null,
   "metadata": {},
   "outputs": [],
   "source": []
  }
 ],
 "metadata": {
  "kernelspec": {
   "display_name": "Python 3.9.13 64-bit",
   "language": "python",
   "name": "python3"
  },
  "language_info": {
   "codemirror_mode": {
    "name": "ipython",
    "version": 3
   },
   "file_extension": ".py",
   "mimetype": "text/x-python",
   "name": "python",
   "nbconvert_exporter": "python",
   "pygments_lexer": "ipython3",
   "version": "3.9.13"
  },
  "orig_nbformat": 4,
  "vscode": {
   "interpreter": {
    "hash": "11938c6bc6919ae2720b4d5011047913343b08a43b18698fd82dedb0d4417594"
   }
  }
 },
 "nbformat": 4,
 "nbformat_minor": 2
}
