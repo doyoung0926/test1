{
 "cells": [
  {
   "cell_type": "code",
   "execution_count": 19,
   "metadata": {},
   "outputs": [
    {
     "name": "stdout",
     "output_type": "stream",
     "text": [
      "([]())\n",
      "[]()\n",
      "(]\n",
      ")(\n",
      "([)]\n",
      "([(([([])()(())]))])\n",
      "\n"
     ]
    }
   ],
   "source": [
    "# https://www.acmicpc.net/problem/4949   # 포기\n",
    "\n",
    "import re\n",
    "\n",
    "# S = input()\n",
    "while 1:\n",
    "    S = input()\n",
    "\n",
    "    if S == '.':\n",
    "        break\n",
    "\n",
    "    else:\n",
    "        value = re.sub(r'[a-zA-Z\\s.]', '', S)\n",
    "\n",
    "        print(value)\n",
    "\n",
    "        # for i in range(len(value)//2):\n",
    "        #     if value[i] == '(':\n",
    "        #         (value[-(i+1)] == ')')|(value[i+1] == ')')\n",
    "        #     elif value[i] == '[':\n",
    "        #         (value[-(i+1)] == ']')|(value[i+1] == ']')\n",
    "        #     # elif value == '':\n",
    "        #     #     pass\n",
    "        #     else:\n",
    "        #         print('no')\n",
    "        #         break\n",
    "        # print('yes')\n",
    "\n"
   ]
  },
  {
   "cell_type": "code",
   "execution_count": 20,
   "metadata": {},
   "outputs": [],
   "source": [
    "# https://www.acmicpc.net/problem/7568   # 문제 이해 안됨\n",
    "\n",
    "import sys\n",
    "\n",
    "N = int(sys.stdin.readline())\n",
    "\n",
    "M = [0]*N\n",
    "for _ in range(N):\n",
    "    M[0] = list(map(int, sys.stdin.readline()))\n",
    "    \n",
    "sorted(M, key=lambda x: x[0])\n",
    "\n"
   ]
  },
  {
   "cell_type": "code",
   "execution_count": 4,
   "metadata": {},
   "outputs": [],
   "source": [
    "# https://www.acmicpc.net/problem/1016   # 1때문에 이상하게 나눠지는 듯\n",
    "\n",
    "import sys\n",
    "\n",
    "min, max = map(int, sys.stdin.readline().split())\n",
    "\n",
    "cnt = 0\n",
    "for i in range(min, max+1):\n",
    "    if i**(1/2) - int(i**(1/2)) == 0:\n",
    "        if i%(int(i**(1/2))) != 0:\n",
    "            cnt += 1\n",
    "        \n",
    "print(cnt)\n"
   ]
  },
  {
   "cell_type": "code",
   "execution_count": 4,
   "metadata": {},
   "outputs": [
    {
     "ename": "TypeError",
     "evalue": "'str' object does not support item assignment",
     "output_type": "error",
     "traceback": [
      "\u001b[1;31m---------------------------------------------------------------------------\u001b[0m",
      "\u001b[1;31mTypeError\u001b[0m                                 Traceback (most recent call last)",
      "Cell \u001b[1;32mIn [4], line 14\u001b[0m\n\u001b[0;32m     12\u001b[0m \u001b[39mif\u001b[39;00m \u001b[39mlen\u001b[39m(S)\u001b[39m%\u001b[39m\u001b[39m2\u001b[39m \u001b[39m==\u001b[39m \u001b[39m1\u001b[39m:\n\u001b[0;32m     13\u001b[0m     \u001b[39mif\u001b[39;00m S\u001b[39m.\u001b[39mcount(i)\u001b[39m%\u001b[39m\u001b[39m2\u001b[39m \u001b[39m==\u001b[39m \u001b[39m0\u001b[39m:\n\u001b[1;32m---> 14\u001b[0m         result[:S\u001b[39m.\u001b[39mcount(i)\u001b[39m/\u001b[39m\u001b[39m/\u001b[39m\u001b[39m2\u001b[39m] \u001b[39m=\u001b[39m i\n\u001b[0;32m     15\u001b[0m         result[\u001b[39m-\u001b[39m((S\u001b[39m.\u001b[39mcount(i)\u001b[39m/\u001b[39m\u001b[39m/\u001b[39m\u001b[39m2\u001b[39m)\u001b[39m+\u001b[39m\u001b[39m1\u001b[39m):] \u001b[39m=\u001b[39m i\n\u001b[0;32m     17\u001b[0m     \u001b[39m#else:\u001b[39;00m\n",
      "\u001b[1;31mTypeError\u001b[0m: 'str' object does not support item assignment"
     ]
    }
   ],
   "source": [
    "# https://www.acmicpc.net/problem/1213   # 실패\n",
    "\n",
    "\n",
    "S = 'ABACABA'\n",
    "b=''.join(set(S))\n",
    "\n",
    "result = '0'*len(S)\n",
    "\n",
    "for i in b:\n",
    "    if len(S)%2 == 1:\n",
    "        if S.count(i)%2 == 0:\n",
    "            result[:S.count(i)//2] = i\n",
    "            result[-((S.count(i)//2)+1):] = i\n",
    "\n",
    "        #else:\n",
    "\n",
    "result"
   ]
  },
  {
   "cell_type": "code",
   "execution_count": null,
   "metadata": {},
   "outputs": [],
   "source": []
  }
 ],
 "metadata": {
  "kernelspec": {
   "display_name": "Python 3.9.13 64-bit",
   "language": "python",
   "name": "python3"
  },
  "language_info": {
   "codemirror_mode": {
    "name": "ipython",
    "version": 3
   },
   "file_extension": ".py",
   "mimetype": "text/x-python",
   "name": "python",
   "nbconvert_exporter": "python",
   "pygments_lexer": "ipython3",
   "version": "3.9.13"
  },
  "orig_nbformat": 4,
  "vscode": {
   "interpreter": {
    "hash": "11938c6bc6919ae2720b4d5011047913343b08a43b18698fd82dedb0d4417594"
   }
  }
 },
 "nbformat": 4,
 "nbformat_minor": 2
}
