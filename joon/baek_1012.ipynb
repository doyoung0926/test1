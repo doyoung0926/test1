{
 "cells": [
  {
   "cell_type": "code",
   "execution_count": 23,
   "metadata": {},
   "outputs": [
    {
     "name": "stdout",
     "output_type": "stream",
     "text": [
      "12\n"
     ]
    }
   ],
   "source": [
    "# https://www.acmicpc.net/problem/1049\n",
    "\n",
    "N, M = map(int, input().split())\n",
    "\n",
    "A = []\n",
    "B = []\n",
    "\n",
    "for _ in range(M):\n",
    "    a, b = map(int, input().split())\n",
    "    A.append(a)\n",
    "    B.append(b)\n",
    "\n",
    "minA = min(A)\n",
    "minB = min(B)\n",
    "\n",
    "if minA < minB*6:\n",
    "    if minA < (N%6)*minB:\n",
    "        print(((N//6)+1)*minA)\n",
    "    else:\n",
    "        print((N//6)*min(A) + (N%6)*minB)\n",
    "elif minA >= minB*6:\n",
    "    print(N*minB)"
   ]
  },
  {
   "cell_type": "code",
   "execution_count": 1,
   "metadata": {},
   "outputs": [],
   "source": [
    "# https://www.acmicpc.net/problem/4673\n",
    "\n",
    "natural_num = set(range(1, 10001))\n",
    "generated_num = set()\n",
    "\n",
    "for i in range(1, 10001):\n",
    "    for j in str(i):\n",
    "        i += int(j)\n",
    "    generated_num.add(i)\n",
    "\n",
    "self_num = sorted(natural_num - generated_num)\n",
    "for i in self_num:\n",
    "    print(i)"
   ]
  },
  {
   "cell_type": "code",
   "execution_count": 7,
   "metadata": {},
   "outputs": [
    {
     "name": "stdout",
     "output_type": "stream",
     "text": [
      "2\n"
     ]
    }
   ],
   "source": [
    "# https://www.acmicpc.net/problem/1100\n",
    "\n",
    "cnt = 0\n",
    "\n",
    "for i in range(1,9):\n",
    "    n = input()\n",
    "\n",
    "    if i%2 == 1:\n",
    "        for j in range(0,len(n),2):\n",
    "            if n[j] == 'F':\n",
    "                cnt += 1\n",
    "    else:\n",
    "        for k in range(1,len(n),2):\n",
    "            if n[k] == 'F':\n",
    "                cnt += 1\n",
    "print(cnt)"
   ]
  },
  {
   "cell_type": "code",
   "execution_count": 31,
   "metadata": {},
   "outputs": [
    {
     "name": "stdout",
     "output_type": "stream",
     "text": [
      "2022-10-12\n"
     ]
    }
   ],
   "source": [
    "# https://www.acmicpc.net/problem/10699\n",
    "\n",
    "\n",
    "import datetime\n",
    "now = datetime.datetime.now()\n",
    "print(now.strftime('%Y-%m-%d'))"
   ]
  },
  {
   "cell_type": "code",
   "execution_count": null,
   "metadata": {},
   "outputs": [],
   "source": [
    "# https://www.acmicpc.net/problem/7287\n",
    "\n",
    "print('67')\n",
    "print('qwe987')"
   ]
  },
  {
   "cell_type": "code",
   "execution_count": 35,
   "metadata": {},
   "outputs": [
    {
     "name": "stdout",
     "output_type": "stream",
     "text": [
      "0\n"
     ]
    }
   ],
   "source": [
    "# https://www.acmicpc.net/problem/10807\n",
    "\n",
    "N = int(input())\n",
    "M = map(int, input().split())\n",
    "v = int(input())\n",
    "\n",
    "cnt = 0\n",
    "for m in M:\n",
    "    if m == v:\n",
    "        cnt += 1\n",
    "\n",
    "print(cnt)"
   ]
  },
  {
   "cell_type": "code",
   "execution_count": 4,
   "metadata": {},
   "outputs": [
    {
     "name": "stdout",
     "output_type": "stream",
     "text": [
      "2\n",
      "8\n"
     ]
    }
   ],
   "source": [
    "# https://www.acmicpc.net/problem/5597\n",
    "\n",
    "num=[]\n",
    "for _ in range(28):\n",
    "    num.append(int(input()))\n",
    "\n",
    "for i in range(1,31):\n",
    "    if i not in num:\n",
    "        print(i)\n",
    "\n"
   ]
  },
  {
   "cell_type": "code",
   "execution_count": 8,
   "metadata": {},
   "outputs": [
    {
     "name": "stdout",
     "output_type": "stream",
     "text": [
      "4 4 4 \n",
      "6 6 6 \n",
      "5 6 100 \n"
     ]
    }
   ],
   "source": [
    "# https://www.acmicpc.net/problem/2738\n",
    "\n",
    "N, M = map(int, input().split())\n",
    "\n",
    "mat= []\n",
    "for _ in range(2*N):\n",
    "    mat.append(list(map(int, input().split())))\n",
    "\n",
    "for i in range(N):\n",
    "    for j in range(M):  \n",
    "        print(mat[i][j]+mat[i+N][j], end=' ')\n",
    "    print()\n",
    "        \n",
    "\n",
    "    "
   ]
  },
  {
   "cell_type": "code",
   "execution_count": 9,
   "metadata": {},
   "outputs": [
    {
     "name": "stdout",
     "output_type": "stream",
     "text": [
      "8\n"
     ]
    }
   ],
   "source": [
    "# https://www.acmicpc.net/problem/2743\n",
    "\n",
    "n = input()\n",
    "\n",
    "print(len(n))"
   ]
  },
  {
   "cell_type": "code",
   "execution_count": 14,
   "metadata": {},
   "outputs": [
    {
     "name": "stdout",
     "output_type": "stream",
     "text": [
      "wRONGaNSWER"
     ]
    }
   ],
   "source": [
    "# https://www.acmicpc.net/problem/2744\n",
    "\n",
    "n = input()\n",
    "\n",
    "for i in n:\n",
    "    if i.islower():\n",
    "        print(i.upper(),end='')\n",
    "    else:\n",
    "        print(i.lower(), end='')\n",
    "\n",
    "\n"
   ]
  },
  {
   "cell_type": "code",
   "execution_count": 16,
   "metadata": {},
   "outputs": [
    {
     "name": "stdout",
     "output_type": "stream",
     "text": [
      "-7\n"
     ]
    }
   ],
   "source": [
    "# https://www.acmicpc.net/problem/15964\n",
    "\n",
    "A, B = map(int, input().split())\n",
    "\n",
    "print(A**2-B**2)"
   ]
  },
  {
   "cell_type": "code",
   "execution_count": 17,
   "metadata": {},
   "outputs": [
    {
     "name": "stdout",
     "output_type": "stream",
     "text": [
      "1\n"
     ]
    }
   ],
   "source": [
    "# https://www.acmicpc.net/problem/2475\n",
    "\n",
    "n = list(map(int, input().split()))\n",
    "\n",
    "num = 0\n",
    "for i in range(5):\n",
    "    num += n[i]**2\n",
    "\n",
    "print(num%10)"
   ]
  },
  {
   "cell_type": "code",
   "execution_count": null,
   "metadata": {},
   "outputs": [],
   "source": []
  }
 ],
 "metadata": {
  "kernelspec": {
   "display_name": "Python 3.9.13 64-bit",
   "language": "python",
   "name": "python3"
  },
  "language_info": {
   "codemirror_mode": {
    "name": "ipython",
    "version": 3
   },
   "file_extension": ".py",
   "mimetype": "text/x-python",
   "name": "python",
   "nbconvert_exporter": "python",
   "pygments_lexer": "ipython3",
   "version": "3.9.13"
  },
  "orig_nbformat": 4,
  "vscode": {
   "interpreter": {
    "hash": "11938c6bc6919ae2720b4d5011047913343b08a43b18698fd82dedb0d4417594"
   }
  }
 },
 "nbformat": 4,
 "nbformat_minor": 2
}
