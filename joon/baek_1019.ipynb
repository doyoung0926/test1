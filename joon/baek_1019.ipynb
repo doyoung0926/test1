{
 "cells": [
  {
   "cell_type": "code",
   "execution_count": 7,
   "metadata": {},
   "outputs": [
    {
     "name": "stdout",
     "output_type": "stream",
     "text": [
      "18\n"
     ]
    }
   ],
   "source": [
    "# https://www.acmicpc.net/problem/1448\n",
    "\n",
    "N = int(input())\n",
    "\n",
    "m = [0]*N\n",
    "for _ in range(N):\n",
    "    m[_] = int(input())\n",
    "\n",
    "m.sort(reverse=True)\n",
    "\n",
    "result=[]\n",
    "for i in range(len(m)-2):\n",
    "    if m[i:i+3][0] < sum(m[i:i+3][1:]):\n",
    "        print(sum(m[i:i+3]))\n",
    "        result.append(1)\n",
    "        break\n",
    "\n",
    "if len(result) < 1:\n",
    "    print(-1)\n",
    "\n"
   ]
  },
  {
   "cell_type": "code",
   "execution_count": 1,
   "metadata": {},
   "outputs": [],
   "source": [
    "# https://www.acmicpc.net/problem/2798\n",
    "\n",
    "import sys\n",
    "\n",
    "N, M = map(int, sys.stdin.readline().split())\n",
    "\n",
    "A = list(map(int, sys.stdin.readline().split()))\n",
    "\n",
    "A.sort(reverse=True)\n",
    "\n",
    "result = -1\n",
    "\n",
    "for i in range(len(A)):\n",
    "    for j in range(i+1,len(A)):\n",
    "        for k in range(j+1,len(A)):\n",
    "            if M >= A[i]+A[j]+A[k]:\n",
    "                if result < A[i]+A[j]+A[k]:\n",
    "                    result = A[i]+A[j]+A[k]\n",
    "\n",
    "print(result)"
   ]
  },
  {
   "cell_type": "code",
   "execution_count": 3,
   "metadata": {},
   "outputs": [],
   "source": [
    "# https://www.acmicpc.net/problem/10814\n",
    "\n",
    "import sys\n",
    "\n",
    "N = int(input())\n",
    "\n",
    "k = [0]*N\n",
    "\n",
    "for _ in range(N):\n",
    "    age, name = map(str, input().split())\n",
    "    age = int(age)\n",
    "    k[_] = (age, name)\n",
    "\n",
    "k.sort(key=lambda x: x[0])\n",
    "\n",
    "for i in k:\n",
    "    print(i[0], i[1])"
   ]
  },
  {
   "cell_type": "code",
   "execution_count": 5,
   "metadata": {},
   "outputs": [
    {
     "name": "stdout",
     "output_type": "stream",
     "text": [
      "Equilateral\n",
      "Scalene\n",
      "Invalid\n",
      "Isosceles\n"
     ]
    }
   ],
   "source": [
    "# https://www.acmicpc.net/problem/5073\n",
    "\n",
    "while 1:\n",
    "    A = list(map(int, input().split()))\n",
    "\n",
    "    if A == [0,0,0]:\n",
    "        break\n",
    "\n",
    "    elif max(A) >= sum(A)-max(A):\n",
    "        print('Invalid')\n",
    "    \n",
    "    else:\n",
    "        A = set(A)\n",
    "        \n",
    "        if len(A) == 3:\n",
    "            print('Scalene')\n",
    "        elif len(A) == 2:\n",
    "            print('Isosceles')\n",
    "        else:\n",
    "            print('Equilateral')"
   ]
  }
 ],
 "metadata": {
  "kernelspec": {
   "display_name": "Python 3.9.13 64-bit",
   "language": "python",
   "name": "python3"
  },
  "language_info": {
   "codemirror_mode": {
    "name": "ipython",
    "version": 3
   },
   "file_extension": ".py",
   "mimetype": "text/x-python",
   "name": "python",
   "nbconvert_exporter": "python",
   "pygments_lexer": "ipython3",
   "version": "3.9.13"
  },
  "orig_nbformat": 4,
  "vscode": {
   "interpreter": {
    "hash": "11938c6bc6919ae2720b4d5011047913343b08a43b18698fd82dedb0d4417594"
   }
  }
 },
 "nbformat": 4,
 "nbformat_minor": 2
}
