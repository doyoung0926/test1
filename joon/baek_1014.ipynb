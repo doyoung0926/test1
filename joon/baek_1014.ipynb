{
 "cells": [
  {
   "cell_type": "code",
   "execution_count": 12,
   "metadata": {},
   "outputs": [
    {
     "ename": "ValueError",
     "evalue": "not enough values to unpack (expected 2, got 0)",
     "output_type": "error",
     "traceback": [
      "\u001b[1;31m---------------------------------------------------------------------------\u001b[0m",
      "\u001b[1;31mValueError\u001b[0m                                Traceback (most recent call last)",
      "Cell \u001b[1;32mIn [12], line 3\u001b[0m\n\u001b[0;32m      1\u001b[0m \u001b[39m# https://www.acmicpc.net/problem/1062\u001b[39;00m\n\u001b[1;32m----> 3\u001b[0m N, K \u001b[39m=\u001b[39m \u001b[39mmap\u001b[39m(\u001b[39mint\u001b[39m, \u001b[39minput\u001b[39m()\u001b[39m.\u001b[39msplit())\n\u001b[0;32m      5\u001b[0m \u001b[39mfor\u001b[39;00m _ \u001b[39min\u001b[39;00m \u001b[39mrange\u001b[39m(N):\n\u001b[0;32m      6\u001b[0m     S \u001b[39m=\u001b[39m \u001b[39minput\u001b[39m()\n",
      "\u001b[1;31mValueError\u001b[0m: not enough values to unpack (expected 2, got 0)"
     ]
    }
   ],
   "source": [
    "# https://www.acmicpc.net/problem/1062   # 실패\n",
    "\n",
    "N, K = map(int, input().split())\n",
    "\n",
    "for _ in range(N):\n",
    "    S = input()\n",
    "\n",
    "    S = S.lstrip('anta')\n",
    "    print(S)\n",
    "    S = S.rstrip('tica')\n",
    "\n",
    "    print(S)\n"
   ]
  },
  {
   "cell_type": "code",
   "execution_count": 7,
   "metadata": {},
   "outputs": [
    {
     "data": {
      "text/plain": [
       "[['1/1', '1/2', '1/3', '1/4', '1/5'],\n",
       " ['2/1', '2/2', '2/3', '2/4', '2/5'],\n",
       " ['3/1', '3/2', '3/3', '3/4', '3/5'],\n",
       " ['4/1', '4/2', '4/3', '4/4', '4/5'],\n",
       " ['5/1', '5/2', '5/3', '5/4', '5/5']]"
      ]
     },
     "execution_count": 7,
     "metadata": {},
     "output_type": "execute_result"
    }
   ],
   "source": [
    "# https://www.acmicpc.net/problem/1193\n",
    "\n",
    "X = int(input())\n",
    "\n",
    "b=[]\n",
    "for i in range(1, X+1):\n",
    "    a=[]\n",
    "    for j in range(1, X+1):\n",
    "        a.append(f\"{i}/{j}\")\n",
    "    b.append(a)\n",
    "\n",
    "\n",
    "b"
   ]
  },
  {
   "cell_type": "code",
   "execution_count": 12,
   "metadata": {},
   "outputs": [
    {
     "name": "stdout",
     "output_type": "stream",
     "text": [
      "Hello Baekjoon Online Judge\n"
     ]
    }
   ],
   "source": [
    "# https://www.acmicpc.net/problem/11718\n",
    "\n",
    "while 1:\n",
    "    try:\n",
    "        print(input())\n",
    "    except:\n",
    "        break"
   ]
  },
  {
   "cell_type": "code",
   "execution_count": 13,
   "metadata": {},
   "outputs": [
    {
     "name": "stdout",
     "output_type": "stream",
     "text": [
      "7931\n"
     ]
    }
   ],
   "source": [
    "# https://www.acmicpc.net/problem/11382\n",
    "\n",
    "A, B, C = map(int, input().split())\n",
    "\n",
    "print(A+B+C)"
   ]
  },
  {
   "cell_type": "code",
   "execution_count": 18,
   "metadata": {},
   "outputs": [
    {
     "name": "stdout",
     "output_type": "stream",
     "text": [
      "8\n"
     ]
    }
   ],
   "source": [
    "# https://www.acmicpc.net/problem/2420\n",
    "\n",
    "\n",
    "N, M = map(int, input().split())\n",
    "\n",
    "print(abs(N-M))\n",
    "    "
   ]
  },
  {
   "cell_type": "code",
   "execution_count": 3,
   "metadata": {},
   "outputs": [
    {
     "name": "stdout",
     "output_type": "stream",
     "text": [
      "1\n",
      "2\n",
      "3\n",
      "4\n",
      "5\n"
     ]
    }
   ],
   "source": [
    "# https://www.acmicpc.net/problem/2741\n",
    "\n",
    "N = int(input())\n",
    "\n",
    "for n in range(1, N+1):\n",
    "    print(n)"
   ]
  },
  {
   "cell_type": "code",
   "execution_count": 4,
   "metadata": {},
   "outputs": [
    {
     "name": "stdout",
     "output_type": "stream",
     "text": [
      "4.0\n"
     ]
    }
   ],
   "source": [
    "# https://www.acmicpc.net/problem/2754\n",
    "\n",
    "score = input()\n",
    "\n",
    "value = {'A+': 4.3, 'A0': 4.0, 'A-': 3.7,\n",
    "         'B+': 3.3,'B0': 3.0, 'B-': 2.7,\n",
    "         'C+': 2.3, 'C0': 2.0, 'C-': 1.7,\n",
    "         'D+': 1.3, 'D0': 1.0, 'D-': 0.7,\n",
    "         'F': 0.0}\n",
    "\n",
    "print(value[score])"
   ]
  },
  {
   "cell_type": "code",
   "execution_count": 5,
   "metadata": {},
   "outputs": [
    {
     "name": "stdout",
     "output_type": "stream",
     "text": [
      "AE\n",
      "OO\n",
      "AB\n"
     ]
    }
   ],
   "source": [
    "# https://www.acmicpc.net/problem/9086\n",
    "\n",
    "T = int(input())\n",
    "\n",
    "for _ in range(T):\n",
    "    S = input()\n",
    "    \n",
    "    print(S[0]+S[-1])"
   ]
  },
  {
   "cell_type": "code",
   "execution_count": null,
   "metadata": {},
   "outputs": [],
   "source": [
    "# https://www.acmicpc.net/problem/10\n",
    "\n",
    "for i in range(0, 100):\n",
    "    for j in range(len(i)):\n",
    "        if i < 10:\n",
    "            \n",
    "        elif i < 10**2:\n",
    "\n",
    "        "
   ]
  },
  {
   "cell_type": "code",
   "execution_count": 5,
   "metadata": {},
   "outputs": [
    {
     "name": "stdout",
     "output_type": "stream",
     "text": [
      "161\n"
     ]
    }
   ],
   "source": [
    "# https://www.acmicpc.net/problem/1085\n",
    "\n",
    "x,y,w,h = map(int, input().split())\n",
    "\n",
    "value = [x,y,abs(w-x), abs(y-h)]\n",
    "\n",
    "print(min(value))"
   ]
  },
  {
   "cell_type": "code",
   "execution_count": 17,
   "metadata": {},
   "outputs": [
    {
     "name": "stdout",
     "output_type": "stream",
     "text": [
      "ascending\n"
     ]
    }
   ],
   "source": [
    "# https://www.acmicpc.net/problem/2920\n",
    "\n",
    "a = list(map(int, input().split()))\n",
    "\n",
    "if a == [1, 2, 3, 4, 5, 6, 7, 8]:\n",
    "    print('ascending')\n",
    "elif a == [8, 7, 6, 5, 4, 3, 2, 1]:\n",
    "    print('descending')\n",
    "else:\n",
    "    print('mixed')"
   ]
  },
  {
   "cell_type": "code",
   "execution_count": 9,
   "metadata": {},
   "outputs": [
    {
     "name": "stdout",
     "output_type": "stream",
     "text": [
      "3\n",
      "1\n",
      "0\n",
      "2\n",
      "0\n",
      "0\n",
      "0\n",
      "2\n",
      "0\n",
      "0\n"
     ]
    }
   ],
   "source": [
    "# https://www.acmicpc.net/problem/2577\n",
    "\n",
    "A = int(input())\n",
    "B = int(input())\n",
    "C = int(input())\n",
    "\n",
    "mul=str(A*B*C)\n",
    "\n",
    "for i in range(10):\n",
    "    print(mul.count(str(i)))"
   ]
  },
  {
   "cell_type": "code",
   "execution_count": 11,
   "metadata": {},
   "outputs": [
    {
     "name": "stdout",
     "output_type": "stream",
     "text": [
      "5\n",
      "4\n",
      "3\n",
      "2\n",
      "1\n"
     ]
    }
   ],
   "source": [
    "# https://www.acmicpc.net/problem/2742\n",
    "\n",
    "N = int(input())\n",
    "\n",
    "for n in range(N, 0, -1):\n",
    "    print(n)"
   ]
  },
  {
   "cell_type": "code",
   "execution_count": 3,
   "metadata": {},
   "outputs": [
    {
     "name": "stdout",
     "output_type": "stream",
     "text": [
      "85\n"
     ]
    }
   ],
   "source": [
    "# https://www.acmicpc.net/problem/1018   # 실패\n",
    "\n",
    "M, N = map(int, input().split())\n",
    "\n",
    "P = []\n",
    "for _ in range(M):\n",
    "    P.append(input())\n",
    "\n",
    "cnt = 0\n",
    "\n",
    "for m in range(M):\n",
    "    for n in range(N):\n",
    "        if P[0][0] == 'W':\n",
    "            if (m%2==0) & (n%2==0):\n",
    "                if P[m][n] != 'W':\n",
    "                    cnt += 1\n",
    "            elif (m%2==0) & (n%2==1):\n",
    "                if P[m][n] != 'B':\n",
    "                    cnt += 1\n",
    "            elif (m%2==1) & (n%2==0):\n",
    "                if P[m][n] != 'B':\n",
    "                    cnt += 1\n",
    "            elif (m%2==1) & (n%2==1):\n",
    "                if P[m][n] != 'W':\n",
    "                    cnt += 1\n",
    "        else:\n",
    "            if (m%2==0) & (n%2==0):\n",
    "                if P[m][n] != 'B':\n",
    "                    cnt += 1\n",
    "            elif (m%2==0) & (n%2==1):\n",
    "                if P[m][n] != 'W':\n",
    "                    cnt += 1\n",
    "            elif (m%2==1) & (n%2==0):\n",
    "                if P[m][n] != 'W':\n",
    "                    cnt += 1\n",
    "            elif (m%2==1) & (n%2==1):\n",
    "                if P[m][n] != 'B':\n",
    "                    cnt += 1\n",
    "\n",
    "\n",
    "print(cnt)"
   ]
  },
  {
   "cell_type": "code",
   "execution_count": null,
   "metadata": {},
   "outputs": [],
   "source": []
  }
 ],
 "metadata": {
  "kernelspec": {
   "display_name": "Python 3.9.13 64-bit",
   "language": "python",
   "name": "python3"
  },
  "language_info": {
   "codemirror_mode": {
    "name": "ipython",
    "version": 3
   },
   "file_extension": ".py",
   "mimetype": "text/x-python",
   "name": "python",
   "nbconvert_exporter": "python",
   "pygments_lexer": "ipython3",
   "version": "3.9.13"
  },
  "orig_nbformat": 4,
  "vscode": {
   "interpreter": {
    "hash": "11938c6bc6919ae2720b4d5011047913343b08a43b18698fd82dedb0d4417594"
   }
  }
 },
 "nbformat": 4,
 "nbformat_minor": 2
}
