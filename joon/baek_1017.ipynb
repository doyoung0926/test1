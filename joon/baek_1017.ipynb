{
 "cells": [
  {
   "cell_type": "code",
   "execution_count": 10,
   "metadata": {},
   "outputs": [
    {
     "ename": "ValueError",
     "evalue": "invalid literal for int() with base 10: ''",
     "output_type": "error",
     "traceback": [
      "\u001b[1;31m---------------------------------------------------------------------------\u001b[0m",
      "\u001b[1;31mValueError\u001b[0m                                Traceback (most recent call last)",
      "Cell \u001b[1;32mIn [10], line 3\u001b[0m\n\u001b[0;32m      1\u001b[0m \u001b[39m# https://www.acmicpc.net/problem/1316\u001b[39;00m\n\u001b[1;32m----> 3\u001b[0m N \u001b[39m=\u001b[39m \u001b[39mint\u001b[39m(\u001b[39minput\u001b[39m())\n\u001b[0;32m      5\u001b[0m cnt \u001b[39m=\u001b[39m \u001b[39m0\u001b[39m\n\u001b[0;32m      6\u001b[0m \u001b[39mfor\u001b[39;00m _ \u001b[39min\u001b[39;00m \u001b[39mrange\u001b[39m(N):\n",
      "\u001b[1;31mValueError\u001b[0m: invalid literal for int() with base 10: ''"
     ]
    }
   ],
   "source": [
    "# https://www.acmicpc.net/problem/1316\n",
    "\n",
    "N = int(input())\n",
    "\n",
    "cnt = 0\n",
    "for _ in range(N):\n",
    "    S = input()\n",
    "    error = 0\n",
    "    \n",
    "    for idx in range(len(S)-1):\n",
    "        if S[idx] != S[idx+1]:\n",
    "            newS = S[idx+1:]\n",
    "            if newS.count(S[idx]) > 0:\n",
    "                error += 1\n",
    "\n",
    "    if error == 0:\n",
    "        cnt += 1\n",
    "        \n",
    "print(cnt)"
   ]
  },
  {
   "cell_type": "code",
   "execution_count": null,
   "metadata": {},
   "outputs": [
    {
     "name": "stdout",
     "output_type": "stream",
     "text": [
      "no\n"
     ]
    }
   ],
   "source": [
    "# https://www.acmicpc.net/problem/1259   # 실패\n",
    "\n",
    "while 1:\n",
    "    S = int(input())\n",
    "\n",
    "    if S == 0:\n",
    "        break\n",
    "    \n",
    "    elif len(str(S)) == 1:\n",
    "        print('yes')\n",
    "\n",
    "    else:\n",
    "        if len(str(S))%2 == 0:\n",
    "            if str(S)[:(len(str(S))//2)+1] == str(S)[:(len(str(S))//2):-1]:\n",
    "                print('yes')\n",
    "            else:\n",
    "                print('no')\n",
    "        else:\n",
    "            if str(S)[:(len(str(S))//2)+1] == str(S)[:(len(str(S))//2)-1:-1]:\n",
    "                print('yes')\n",
    "            else:\n",
    "                print('no')\n"
   ]
  },
  {
   "cell_type": "code",
   "execution_count": null,
   "metadata": {},
   "outputs": [],
   "source": [
    "# https://www.acmicpc.net/problem/10816   # 시간초과\n",
    "\n",
    "import sys\n",
    "\n",
    "input = sys.stdin.readline\n",
    "\n",
    "N = int(input())\n",
    "NN = list(map(int, input().split()))\n",
    "M = int(input())\n",
    "MM = list(map(int, input().split()))\n",
    "\n",
    "result = []\n",
    "for i in range(len(MM)):\n",
    "    result.append(NN.count(MM[i]))\n",
    "\n",
    "print(*result)"
   ]
  },
  {
   "cell_type": "code",
   "execution_count": null,
   "metadata": {},
   "outputs": [
    {
     "name": "stdout",
     "output_type": "stream",
     "text": [
      "-1\n"
     ]
    }
   ],
   "source": [
    "# https://www.acmicpc.net/problem/1712  # 모르겠다.\n",
    "\n",
    "A, B, C = map(int, input().split())\n",
    "\n",
    "n = 0\n",
    "while 1:\n",
    "    n += 1\n",
    "    if (A +B*n) < C*n:\n",
    "        if (A + B*n)/n < C:\n",
    "            print(n)\n",
    "            break\n",
    "    \n",
    "    else:\n",
    "        print(-1)\n",
    "        break"
   ]
  },
  {
   "cell_type": "code",
   "execution_count": null,
   "metadata": {},
   "outputs": [
    {
     "name": "stdout",
     "output_type": "stream",
     "text": [
      "3\n"
     ]
    }
   ],
   "source": [
    "# https://www.acmicpc.net/problem/2292   # 시간 초과\n",
    "\n",
    "import sys\n",
    "\n",
    "input = sys.stdin.readline\n",
    "\n",
    "N = int(input())\n",
    "\n",
    "for n in range(1, (N//6)+1):\n",
    "    if 2 + 6*(n-1) <= N <= 2 + 6*n -1:\n",
    "        print(n+1)\n",
    "        break\n",
    "\n"
   ]
  },
  {
   "cell_type": "code",
   "execution_count": 14,
   "metadata": {},
   "outputs": [
    {
     "name": "stdout",
     "output_type": "stream",
     "text": [
      "999999901\n"
     ]
    }
   ],
   "source": [
    "# https://www.acmicpc.net/problem/2869   # 시간 초과\n",
    "\n",
    "A, B, V = map(int, input().split())\n",
    "\n",
    "n = 1\n",
    "L = 0\n",
    "while 1:\n",
    "\n",
    "    L += A\n",
    "    if L < V:\n",
    "        L -= B\n",
    "        n += 1\n",
    "    else:\n",
    "        print(n)\n",
    "        break"
   ]
  },
  {
   "cell_type": "code",
   "execution_count": 25,
   "metadata": {},
   "outputs": [
    {
     "name": "stdout",
     "output_type": "stream",
     "text": [
      "-1\n"
     ]
    }
   ],
   "source": [
    "# https://www.acmicpc.net/problem/2839\n",
    "\n",
    "N = int(input())\n",
    "\n",
    "while 1:\n",
    "    if 3*n + 5*m == N:\n",
    "        print(n+m)"
   ]
  },
  {
   "cell_type": "code",
   "execution_count": 4,
   "metadata": {},
   "outputs": [
    {
     "name": "stdout",
     "output_type": "stream",
     "text": [
      "1 -1\n",
      "1 2\n",
      "2 2\n",
      "3 3\n",
      "0 4\n"
     ]
    }
   ],
   "source": [
    "# https://www.acmicpc.net/problem/11651   # 틀림\n",
    "\n",
    "N = int(input())\n",
    "\n",
    "xy=[]\n",
    "for _ in range(N):\n",
    "    xy.append(list(map(int, input().split())))\n",
    "\n",
    "for i in sorted(xy, key=lambda x: x[1]):\n",
    "    for j in i:\n",
    "        print(j, end = ' ')\n",
    "    print()\n"
   ]
  },
  {
   "cell_type": "code",
   "execution_count": 25,
   "metadata": {},
   "outputs": [
    {
     "name": "stdout",
     "output_type": "stream",
     "text": [
      "166699\n"
     ]
    }
   ],
   "source": [
    "# https://www.acmicpc.net/problem/1436\n",
    "\n",
    "N = int(input())\n",
    "\n",
    "cnt = 0\n",
    "result=[]\n",
    "for n in range(1000*N):\n",
    "    if '666' in str(n):\n",
    "        result.append(n)\n",
    "\n",
    "print(result[N-1])\n"
   ]
  },
  {
   "cell_type": "code",
   "execution_count": 51,
   "metadata": {},
   "outputs": [],
   "source": [
    "# https://www.acmicpc.net/problem/2164\n",
    "\n",
    "import sys\n",
    "\n",
    "input = sys.stdin.readline\n",
    "\n",
    "N = int(input())\n",
    "NN=[i for i in range(1,N+1)]\n",
    "\n",
    "while 1:\n",
    "    NN = NN[1:]\n",
    "    NN = NN[1:]+[NN[0]]\n",
    "    \n",
    "    if len(NN) == 1:\n",
    "        print(*NN)\n",
    "        break\n",
    "\n"
   ]
  },
  {
   "cell_type": "code",
   "execution_count": 49,
   "metadata": {},
   "outputs": [
    {
     "data": {
      "text/plain": [
       "[2, 3, 4, 5, 6, 1]"
      ]
     },
     "execution_count": 49,
     "metadata": {},
     "output_type": "execute_result"
    }
   ],
   "source": [
    "[i for i in range(1,7)][1:] + [[i for i in range(1,7)][0]]"
   ]
  },
  {
   "cell_type": "code",
   "execution_count": 48,
   "metadata": {},
   "outputs": [
    {
     "data": {
      "text/plain": [
       "[1]"
      ]
     },
     "execution_count": 48,
     "metadata": {},
     "output_type": "execute_result"
    }
   ],
   "source": [
    "[[i for i in range(1,7)][0]]"
   ]
  },
  {
   "cell_type": "code",
   "execution_count": null,
   "metadata": {},
   "outputs": [],
   "source": []
  }
 ],
 "metadata": {
  "kernelspec": {
   "display_name": "Python 3.9.13 64-bit",
   "language": "python",
   "name": "python3"
  },
  "language_info": {
   "codemirror_mode": {
    "name": "ipython",
    "version": 3
   },
   "file_extension": ".py",
   "mimetype": "text/x-python",
   "name": "python",
   "nbconvert_exporter": "python",
   "pygments_lexer": "ipython3",
   "version": "3.9.13"
  },
  "orig_nbformat": 4,
  "vscode": {
   "interpreter": {
    "hash": "11938c6bc6919ae2720b4d5011047913343b08a43b18698fd82dedb0d4417594"
   }
  }
 },
 "nbformat": 4,
 "nbformat_minor": 2
}
