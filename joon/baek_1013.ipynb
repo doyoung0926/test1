{
 "cells": [
  {
   "cell_type": "code",
   "execution_count": null,
   "metadata": {},
   "outputs": [],
   "source": [
    "# https://www.acmicpc.net/problem/15964\n",
    "\n",
    "A, B = map(int, input().split())\n",
    "\n",
    "print(A**2-B**2)"
   ]
  },
  {
   "cell_type": "code",
   "execution_count": null,
   "metadata": {},
   "outputs": [],
   "source": [
    "# https://www.acmicpc.net/problem/2475\n",
    "\n",
    "n = list(map(int, input().split()))\n",
    "\n",
    "num = 0\n",
    "for i in range(5):\n",
    "    num += n[i]**2\n",
    "\n",
    "print(num%10)"
   ]
  },
  {
   "cell_type": "code",
   "execution_count": 34,
   "metadata": {},
   "outputs": [
    {
     "name": "stdout",
     "output_type": "stream",
     "text": [
      "119\n"
     ]
    }
   ],
   "source": [
    "# https://www.acmicpc.net/problem/1065\n",
    "\n",
    "N = int(input())\n",
    "\n",
    "cnt = 0\n",
    "for n in range(1, N+1):\n",
    "    if n <= 99:\n",
    "        cnt += 1\n",
    "\n",
    "    else:\n",
    "        if int(str(n)[2]) - int(str(n)[1]) == int(str(n)[1]) - int(str(n)[0]):\n",
    "            cnt += 1\n",
    "\n",
    "print(cnt)\n",
    "        "
   ]
  },
  {
   "cell_type": "code",
   "execution_count": 40,
   "metadata": {},
   "outputs": [
    {
     "name": "stdout",
     "output_type": "stream",
     "text": [
      "57\n"
     ]
    }
   ],
   "source": [
    "# https://www.acmicpc.net/problem/11654\n",
    "\n",
    "n = input()\n",
    "\n",
    "print(ord(n))"
   ]
  },
  {
   "cell_type": "code",
   "execution_count": 52,
   "metadata": {},
   "outputs": [
    {
     "name": "stdout",
     "output_type": "stream",
     "text": [
      "1 0 -1 -1 2 -1 -1 -1 -1 4 3 -1 -1 7 5 -1 -1 -1 -1 -1 -1 -1 -1 -1 -1 -1 "
     ]
    }
   ],
   "source": [
    "# https://www.acmicpc.net/problem/10809\n",
    "\n",
    "\n",
    "import string\n",
    "\n",
    "S = input()\n",
    "\n",
    "ab=list(string.ascii_lowercase)\n",
    "\n",
    "idx = []\n",
    "for s in S:\n",
    "    idx.append(ab.index(s))\n",
    "\n",
    "result = [-1] * 26\n",
    "for i in range(len(idx)):\n",
    "    if result[idx[i]] == -1:\n",
    "        result[idx[i]] = i\n",
    "    else:\n",
    "        pass\n",
    "\n",
    "for r in result:\n",
    "    print(r, end=' ')\n"
   ]
  },
  {
   "cell_type": "code",
   "execution_count": 55,
   "metadata": {},
   "outputs": [
    {
     "name": "stdout",
     "output_type": "stream",
     "text": [
      "AAABBBCCC\n",
      "/////HHHHHTTTTTPPPPP\n"
     ]
    }
   ],
   "source": [
    "# https://www.acmicpc.net/problem/2675\n",
    "\n",
    "T = int(input())\n",
    "\n",
    "for _ in range(T):\n",
    "    R, S = map(str, input().split())\n",
    "\n",
    "    for s in S:\n",
    "        print(s*int(R), end='')\n",
    "    print()"
   ]
  },
  {
   "cell_type": "code",
   "execution_count": 37,
   "metadata": {},
   "outputs": [
    {
     "name": "stdout",
     "output_type": "stream",
     "text": [
      "?\n"
     ]
    }
   ],
   "source": [
    "# https://www.acmicpc.net/problem/1157\n",
    "\n",
    "from collections import Counter\n",
    "\n",
    "S = input()\n",
    "\n",
    "alpha = list()\n",
    "for s in S.lower():\n",
    "    alpha.append(s)\n",
    "\n",
    "cut = Counter(alpha).most_common()\n",
    "\n",
    "if len(cut) > 1:\n",
    "    if cut[0][1] == cut[1][1]:\n",
    "        print('?')\n",
    "    else:\n",
    "        print(cut[0][0].upper())\n",
    "else:\n",
    "    print(cut[0][0].upper())\n"
   ]
  },
  {
   "cell_type": "code",
   "execution_count": 45,
   "metadata": {},
   "outputs": [
    {
     "name": "stdout",
     "output_type": "stream",
     "text": [
      "6\n"
     ]
    }
   ],
   "source": [
    "# https://www.acmicpc.net/problem/1152\n",
    "\n",
    "S = input()\n",
    "\n",
    "s_list = []\n",
    "for s in S.split(' '):\n",
    "    if s != '':\n",
    "        s_list.append(s)\n",
    "\n",
    "print(len(s_list))"
   ]
  },
  {
   "cell_type": "code",
   "execution_count": 57,
   "metadata": {},
   "outputs": [
    {
     "name": "stdout",
     "output_type": "stream",
     "text": [
      "132\n"
     ]
    }
   ],
   "source": [
    "# https://www.acmicpc.net/problem/2908\n",
    "\n",
    "A, B = map(str, input().split())\n",
    "\n",
    "if int(A[::-1]) > int(B[::-1]):\n",
    "    print(int(A[::-1]))\n",
    "if int(A[::-1]) < int(B[::-1]):\n",
    "    print(int(B[::-1]))\n"
   ]
  },
  {
   "cell_type": "code",
   "execution_count": 7,
   "metadata": {},
   "outputs": [
    {
     "name": "stdout",
     "output_type": "stream",
     "text": [
      "36\n"
     ]
    }
   ],
   "source": [
    "# https://www.acmicpc.net/problem/5622\n",
    "\n",
    "S = input()\n",
    "\n",
    "sum = 0\n",
    "for s in S:\n",
    "    sum += 1\n",
    "    if s in ['A','B','C']:\n",
    "        sum += 2\n",
    "    if s in ['D','E','F']:\n",
    "        sum += 3\n",
    "    if s in ['G','H','I']:\n",
    "        sum += 4\n",
    "    if s in ['J','K','L']:\n",
    "        sum += 5\n",
    "    if s in ['M','N','O']:\n",
    "        sum += 6\n",
    "    if s in ['P','Q','R','S']:\n",
    "        sum += 7\n",
    "    if s in ['T','U','V']:\n",
    "        sum += 8\n",
    "    if s in ['W','X','Y','Z']:\n",
    "        sum += 9\n",
    "print(sum)"
   ]
  },
  {
   "cell_type": "code",
   "execution_count": 22,
   "metadata": {},
   "outputs": [
    {
     "name": "stdout",
     "output_type": "stream",
     "text": [
      "2\n"
     ]
    }
   ],
   "source": [
    "# https://www.acmicpc.net/problem/2941\n",
    "\n",
    "S = input()\n",
    "\n",
    "value = ['c=','c-','dz=','d-','lj','nj','s=','z=']\n",
    "\n",
    "\n",
    "for v in value:\n",
    "    if v in S:\n",
    "        S=S.replace(v,'@')\n",
    "print(len(S))\n"
   ]
  },
  {
   "cell_type": "code",
   "execution_count": 13,
   "metadata": {},
   "outputs": [
    {
     "ename": "IndexError",
     "evalue": "list index out of range",
     "output_type": "error",
     "traceback": [
      "\u001b[1;31m---------------------------------------------------------------------------\u001b[0m",
      "\u001b[1;31mIndexError\u001b[0m                                Traceback (most recent call last)",
      "Cell \u001b[1;32mIn [13], line 15\u001b[0m\n\u001b[0;32m     12\u001b[0m     word\u001b[39m.\u001b[39mappend(s)\n\u001b[0;32m     14\u001b[0m \u001b[39mfor\u001b[39;00m idx \u001b[39min\u001b[39;00m \u001b[39mrange\u001b[39m(\u001b[39mlen\u001b[39m(word),\u001b[39m0\u001b[39m,\u001b[39m-\u001b[39m\u001b[39m1\u001b[39m):\n\u001b[1;32m---> 15\u001b[0m     \u001b[39mif\u001b[39;00m word[idx] \u001b[39min\u001b[39;00m word[:idx\u001b[39m-\u001b[39m\u001b[39m1\u001b[39m]:\n\u001b[0;32m     16\u001b[0m         cnt \u001b[39m-\u001b[39m\u001b[39m=\u001b[39m \u001b[39m1\u001b[39m\n\u001b[0;32m     17\u001b[0m         \u001b[39mbreak\u001b[39;00m\n",
      "\u001b[1;31mIndexError\u001b[0m: list index out of range"
     ]
    }
   ],
   "source": [
    "# https://www.acmicpc.net/problem/1316   # 실패\n",
    "\n",
    "N = int(input())\n",
    "\n",
    "cnt = 0\n",
    "for _ in range(N):\n",
    "    cnt += 1\n",
    "    S = input()\n",
    "\n",
    "    word = list()\n",
    "    for s in S:\n",
    "        word.append(s)\n",
    "        \n",
    "    for idx in range(len(word),0,-1):\n",
    "        if word[idx] in word[:idx-1]:\n",
    "            cnt -= 1\n",
    "            break\n",
    "\n",
    "print(cnt)\n"
   ]
  },
  {
   "cell_type": "code",
   "execution_count": 10,
   "metadata": {},
   "outputs": [
    {
     "name": "stdout",
     "output_type": "stream",
     "text": [
      "     *   \n",
      "    * *  \n",
      "   ***** \n",
      "  *   \n",
      " * *  \n",
      "***** \n"
     ]
    }
   ],
   "source": [
    "# https://www.acmicpc.net/problem/2448   # 고민 해보기\n",
    "\n",
    "N = int(input())\n",
    "\n",
    "a=' '*2 + '*' + ' '*2\n",
    "b=' '+ '*'+' '+'*'+' '\n",
    "c='*'*5\n",
    "\n",
    "for n in range(1, N+1):\n",
    "    if n%3==1:\n",
    "        print(' '*((N-n)//3)*3+a+' '+a*)\n",
    "    if n%3==2:\n",
    "        print(' '*((N-n)//3)*3+b+' '+b)\n",
    "    if n%3==0:\n",
    "        print(' '*((N-n)//3)*3+c+' '+c)\n",
    "\n"
   ]
  },
  {
   "cell_type": "code",
   "execution_count": null,
   "metadata": {},
   "outputs": [],
   "source": []
  }
 ],
 "metadata": {
  "kernelspec": {
   "display_name": "Python 3.9.13 64-bit",
   "language": "python",
   "name": "python3"
  },
  "language_info": {
   "codemirror_mode": {
    "name": "ipython",
    "version": 3
   },
   "file_extension": ".py",
   "mimetype": "text/x-python",
   "name": "python",
   "nbconvert_exporter": "python",
   "pygments_lexer": "ipython3",
   "version": "3.9.13"
  },
  "orig_nbformat": 4,
  "vscode": {
   "interpreter": {
    "hash": "11938c6bc6919ae2720b4d5011047913343b08a43b18698fd82dedb0d4417594"
   }
  }
 },
 "nbformat": 4,
 "nbformat_minor": 2
}
