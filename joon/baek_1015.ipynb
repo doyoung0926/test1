{
 "cells": [
  {
   "cell_type": "code",
   "execution_count": 19,
   "metadata": {},
   "outputs": [
    {
     "name": "stdout",
     "output_type": "stream",
     "text": [
      "i\n",
      "im\n",
      "it\n",
      "no\n",
      "but\n",
      "more\n",
      "wait\n",
      "wont\n",
      "yours\n",
      "cannot\n",
      "hesitate\n"
     ]
    }
   ],
   "source": [
    "# https://www.acmicpc.net/problem/1181\n",
    "\n",
    "N = int(input())\n",
    "\n",
    "word = set()\n",
    "for _ in range(N):\n",
    "    word.add(input())\n",
    "\n",
    "word = list(word)\n",
    "word.sort()\n",
    "word.sort(key=len)\n",
    "\n",
    "for i in word:\n",
    "    print(i)"
   ]
  },
  {
   "cell_type": "code",
   "execution_count": 26,
   "metadata": {},
   "outputs": [
    {
     "name": "stdout",
     "output_type": "stream",
     "text": [
      "198\n"
     ]
    }
   ],
   "source": [
    "# https://www.acmicpc.net/problem/2231\n",
    "\n",
    "N = int(input())\n",
    "\n",
    "sum = 0\n",
    "for n in range(1, N+1):\n",
    "    result=n\n",
    "    for i in range(len(str(n))):\n",
    "        result += int(str(n)[i])\n",
    "    if N == result:\n",
    "        sum = n\n",
    "        break\n",
    "print(sum)"
   ]
  },
  {
   "cell_type": "code",
   "execution_count": 29,
   "metadata": {},
   "outputs": [
    {
     "name": "stdout",
     "output_type": "stream",
     "text": [
      "1\n",
      "2\n",
      "3\n",
      "4\n",
      "5\n"
     ]
    }
   ],
   "source": [
    "# https://www.acmicpc.net/problem/2751\n",
    "\n",
    "import sys\n",
    "\n",
    "input = sys.stdin.readline\n",
    "N = int(input())\n",
    "\n",
    "value=[]\n",
    "for _ in range(N):\n",
    "    value.append(int(input()))\n",
    "\n",
    "value.sort()\n",
    "\n",
    "for i in value:\n",
    "    print(i)"
   ]
  },
  {
   "cell_type": "code",
   "execution_count": 30,
   "metadata": {},
   "outputs": [
    {
     "name": "stdout",
     "output_type": "stream",
     "text": [
      "1\n",
      "1\n",
      "0\n",
      "0\n",
      "1\n"
     ]
    }
   ],
   "source": [
    "# https://www.acmicpc.net/problem/1920   # 시간 초과\n",
    " \n",
    "import sys\n",
    "\n",
    "input=sys.stdin.readline\n",
    "\n",
    "N = int(input())\n",
    "nL=list(map(int, input().split()))\n",
    "M = int(input())\n",
    "mL=list(map(int, input().split()))\n",
    "\n",
    "for i in mL:\n",
    "    if i in nL:\n",
    "        print(1)\n",
    "    elif i not in nL:\n",
    "        print(0)"
   ]
  },
  {
   "cell_type": "code",
   "execution_count": 31,
   "metadata": {},
   "outputs": [
    {
     "name": "stdout",
     "output_type": "stream",
     "text": [
      "1\n",
      "1\n",
      "2\n",
      "2\n",
      "3\n",
      "3\n",
      "4\n",
      "5\n",
      "5\n",
      "7\n"
     ]
    }
   ],
   "source": [
    "# https://www.acmicpc.net/problem/10989   # 메모리 초과\n",
    "\n",
    "import sys\n",
    "\n",
    "input = sys.stdin.readline\n",
    "\n",
    "N = int(input())\n",
    "result=[]\n",
    "for _ in range(N):\n",
    "    result.append(int(input()))\n",
    "\n",
    "result.sort()\n",
    "\n",
    "for i in result:\n",
    "    print(i)"
   ]
  },
  {
   "cell_type": "code",
   "execution_count": 41,
   "metadata": {},
   "outputs": [
    {
     "name": "stdout",
     "output_type": "stream",
     "text": [
      "1 -1\n",
      "1 1\n",
      "2 2\n",
      "3 3\n",
      "3 4\n"
     ]
    }
   ],
   "source": [
    "# https://www.acmicpc.net/problem/11650\n",
    "\n",
    "\n",
    "N = int(input())\n",
    "\n",
    "result=[]\n",
    "for _ in range(N):\n",
    "    xy = list(map(int, input().split()))\n",
    "    result.append(xy)\n",
    "\n",
    "result.sort()\n",
    "for i in result:\n",
    "    i[0], i[1]=str(i[0]), str(i[1])\n",
    "    print(' '.join(i))"
   ]
  },
  {
   "cell_type": "code",
   "execution_count": 42,
   "metadata": {},
   "outputs": [
    {
     "name": "stdout",
     "output_type": "stream",
     "text": [
      "right\n",
      "wrong\n",
      "right\n"
     ]
    }
   ],
   "source": [
    "# https://www.acmicpc.net/problem/4153\n",
    "\n",
    "while 1:\n",
    "\n",
    "    a = list(map(int, input().split()))\n",
    "    a.sort()\n",
    "\n",
    "    if a == [0,0,0]:\n",
    "        break\n",
    "\n",
    "    else:\n",
    "        if a[2]**2 == a[0]**2 + a[1]**2:\n",
    "            print('right')\n",
    "        else:\n",
    "            print('wrong')\n"
   ]
  },
  {
   "cell_type": "code",
   "execution_count": null,
   "metadata": {},
   "outputs": [],
   "source": [
    "# https://www.acmicpc.net/problem/10814\n",
    "\n",
    "N = int(input())\n",
    "\n",
    "result=[]\n",
    "for _ in range(N):\n",
    "    result.append(list(map(str, input().split())))\n",
    "\n",
    "\n",
    "\n"
   ]
  }
 ],
 "metadata": {
  "kernelspec": {
   "display_name": "Python 3.9.13 64-bit",
   "language": "python",
   "name": "python3"
  },
  "language_info": {
   "codemirror_mode": {
    "name": "ipython",
    "version": 3
   },
   "file_extension": ".py",
   "mimetype": "text/x-python",
   "name": "python",
   "nbconvert_exporter": "python",
   "pygments_lexer": "ipython3",
   "version": "3.9.13"
  },
  "orig_nbformat": 4,
  "vscode": {
   "interpreter": {
    "hash": "11938c6bc6919ae2720b4d5011047913343b08a43b18698fd82dedb0d4417594"
   }
  }
 },
 "nbformat": 4,
 "nbformat_minor": 2
}
