{
 "cells": [
  {
   "cell_type": "code",
   "execution_count": 8,
   "metadata": {},
   "outputs": [
    {
     "name": "stdout",
     "output_type": "stream",
     "text": [
      "60\n",
      "[5, 53, 25, 21, 3, 44, 15, 37, 14, 2, 9, 10, 45, 50, 42, 6, 27, 30, 13, 28, 4, 18, 20, 29, 39, 23, 12, 54, 60, 26, 56, 8, 36, 40, 58, 17, 46, 24, 47, 59, 52, 51, 16, 11, 19, 55, 34, 31, 48, 33, 57, 43, 41, 32, 22, 38, 49, 7, 1, 35]\n"
     ]
    }
   ],
   "source": [
    "# https://www.acmicpc.net/problem/2526   # 어렵\n",
    "\n",
    "N, P = map(int, input().split())\n",
    "\n",
    "re = []\n",
    "n = N\n",
    "\n",
    "while 1:\n",
    "    n = (n * N) % P\n",
    "\n",
    "    if n in re:\n",
    "        print(len(re) - re.index(n))\n",
    "        break\n",
    "    \n",
    "    re.append(n)\n",
    "print(re)\n"
   ]
  },
  {
   "cell_type": "code",
   "execution_count": 27,
   "metadata": {},
   "outputs": [],
   "source": [
    "# https://www.acmicpc.net/problem/1448   # 시간초과\n",
    "\n",
    "from itertools import combinations\n",
    "# import sys\n",
    "\n",
    "# input = sys.stdin.readline\n",
    "\n",
    "N = int(input())\n",
    "\n",
    "value=[]\n",
    "for _ in range(N):\n",
    "    value.append(int(input()))\n",
    "\n",
    "result=[]\n",
    "for i in list(combinations(value, 3)):\n",
    "    if max(i) < sum(i)-max(i):\n",
    "        result.append(sum(i))\n",
    "\n",
    "if len(result) == 0:\n",
    "    print(-1)\n",
    "else:\n",
    "    print(max(result))"
   ]
  },
  {
   "cell_type": "code",
   "execution_count": 1,
   "metadata": {},
   "outputs": [],
   "source": [
    "# https://www.acmicpc.net/problem/10870\n",
    "def pibo(n):\n",
    "    if (n==0) or (n==1):\n",
    "        return n\n",
    "    else:\n",
    "        return pibo(n-1) + pibo(n-2)\n",
    "\n",
    "import sys\n",
    "n = int(sys.stdin.readline())\n",
    "print(pibo(n))"
   ]
  },
  {
   "cell_type": "code",
   "execution_count": null,
   "metadata": {},
   "outputs": [],
   "source": [
    "# https://www.acmicpc.net/problem/2798   # 다시 도전해야 함\n",
    "\n",
    "import sys\n",
    "\n",
    "N, M = map(int, sys.stdin.readline().split())\n",
    "value = list(map(int, sys.stdin.readline().split()))\n"
   ]
  },
  {
   "cell_type": "code",
   "execution_count": 1,
   "metadata": {},
   "outputs": [],
   "source": [
    "# https://www.acmicpc.net/problem/10156\n",
    "import sys\n",
    "\n",
    "K, N, M = map(int, sys.stdin.readline().split())\n",
    "\n",
    "if K*N-M >= 0:\n",
    "    print(K*N-M)\n",
    "\n",
    "else:\n",
    "    print(0)\n",
    "    \n",
    "    "
   ]
  },
  {
   "cell_type": "code",
   "execution_count": 29,
   "metadata": {},
   "outputs": [
    {
     "name": "stdout",
     "output_type": "stream",
     "text": [
      "3\n"
     ]
    }
   ],
   "source": [
    "# https://www.acmicpc.net/problem/2548   # 시간초과\n",
    "\n",
    "import sys\n",
    "\n",
    "N = int(sys.stdin.readline())\n",
    "A = list(map(int, sys.stdin.readline().split()))\n",
    "\n",
    "result = 9999\n",
    "idx=[]\n",
    "for i in range(len(A)):\n",
    "    sum = 0\n",
    "    for j in range(len(A)):\n",
    "        sum += abs(A[i]-A[j])\n",
    "\n",
    "    if result >= sum:\n",
    "        result = sum\n",
    "        idx.append(A[i])\n",
    "\n",
    "print(min(idx))\n",
    "\n"
   ]
  },
  {
   "cell_type": "code",
   "execution_count": 45,
   "metadata": {},
   "outputs": [
    {
     "name": "stdout",
     "output_type": "stream",
     "text": [
      "c.user.?i?e.programs\n"
     ]
    }
   ],
   "source": [
    "# https://www.acmicpc.net/problem/1032\n",
    "\n",
    "N = int(input())\n",
    "s=[0]*N\n",
    "\n",
    "for _ in range(N):\n",
    "    s[_] = list(input())\n",
    "\n",
    "\n",
    "for i in range(1, N):\n",
    "    for j in range(len(s[0])):\n",
    "        if s[0][j] != s[i][j]:\n",
    "            s[0][j] = '?'\n",
    "\n",
    "print(''.join(s[0]))\n"
   ]
  },
  {
   "cell_type": "code",
   "execution_count": null,
   "metadata": {},
   "outputs": [],
   "source": [
    "# https://www.acmicpc.net/problem/11660\n",
    "\n",
    "N, M = map(int, input().split())\n",
    "\n",
    "z=[0]*(N+M)\n",
    "for _ in range(N+M):\n",
    "    z[_] = input()\n",
    "\n",
    "for i in range(N, N+M):\n",
    "    for x in range(i[0]-1,i[2]):\n",
    "        for y in range(i[1]-1,i[3]+1):\n",
    "\n",
    "\n"
   ]
  }
 ],
 "metadata": {
  "kernelspec": {
   "display_name": "Python 3.9.13 64-bit",
   "language": "python",
   "name": "python3"
  },
  "language_info": {
   "codemirror_mode": {
    "name": "ipython",
    "version": 3
   },
   "file_extension": ".py",
   "mimetype": "text/x-python",
   "name": "python",
   "nbconvert_exporter": "python",
   "pygments_lexer": "ipython3",
   "version": "3.9.13"
  },
  "orig_nbformat": 4,
  "vscode": {
   "interpreter": {
    "hash": "11938c6bc6919ae2720b4d5011047913343b08a43b18698fd82dedb0d4417594"
   }
  }
 },
 "nbformat": 4,
 "nbformat_minor": 2
}
